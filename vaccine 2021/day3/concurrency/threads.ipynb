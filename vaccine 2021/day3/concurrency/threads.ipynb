{
 "cells": [
  {
   "cell_type": "code",
   "execution_count": 1,
   "metadata": {},
   "outputs": [],
   "source": [
    "import time"
   ]
  },
  {
   "cell_type": "code",
   "execution_count": 4,
   "metadata": {},
   "outputs": [],
   "source": [
    "def taska():\n",
    "    for i in range(3, 0, -1):\n",
    "        print(\"task A left with\", i, \"seconds\")\n",
    "        time.sleep(1)"
   ]
  },
  {
   "cell_type": "code",
   "execution_count": 3,
   "metadata": {},
   "outputs": [
    {
     "name": "stdout",
     "output_type": "stream",
     "text": [
      "task A will take 3 seconds\n",
      "task A will take 2 seconds\n",
      "task A will take 1 seconds\n"
     ]
    }
   ],
   "source": [
    "taska()"
   ]
  },
  {
   "cell_type": "code",
   "execution_count": 6,
   "metadata": {},
   "outputs": [],
   "source": [
    "def taskb():\n",
    "    for i in range(6, 0, -1):\n",
    "        print(\"task B left with\", i, \"seconds\")\n",
    "        time.sleep(1)"
   ]
  },
  {
   "cell_type": "code",
   "execution_count": 7,
   "metadata": {},
   "outputs": [],
   "source": [
    "def taskc():\n",
    "    for i in range(9, 0, -1):\n",
    "        print(\"task C left with\", i, \"seconds\")\n",
    "        time.sleep(1)"
   ]
  },
  {
   "cell_type": "code",
   "execution_count": 8,
   "metadata": {},
   "outputs": [
    {
     "name": "stdout",
     "output_type": "stream",
     "text": [
      "task A left with 3 seconds\n",
      "task A left with 2 seconds\n",
      "task A left with 1 seconds\n",
      "task B left with 6 seconds\n",
      "task B left with 5 seconds\n",
      "task B left with 4 seconds\n",
      "task B left with 3 seconds\n",
      "task B left with 2 seconds\n",
      "task B left with 1 seconds\n",
      "task C left with 9 seconds\n",
      "task C left with 8 seconds\n",
      "task C left with 7 seconds\n",
      "task C left with 6 seconds\n",
      "task C left with 5 seconds\n",
      "task C left with 4 seconds\n",
      "task C left with 3 seconds\n",
      "task C left with 2 seconds\n",
      "task C left with 1 seconds\n"
     ]
    }
   ],
   "source": [
    "taska()\n",
    "taskb()\n",
    "taskc()"
   ]
  },
  {
   "cell_type": "code",
   "execution_count": 9,
   "metadata": {},
   "outputs": [],
   "source": [
    "import threading"
   ]
  },
  {
   "cell_type": "code",
   "execution_count": 10,
   "metadata": {},
   "outputs": [],
   "source": [
    "ta = threading.Thread(target=taska)\n",
    "tb = threading.Thread(target=taskb)\n",
    "tc = threading.Thread(target=taskc)"
   ]
  },
  {
   "cell_type": "code",
   "execution_count": 11,
   "metadata": {},
   "outputs": [
    {
     "name": "stdout",
     "output_type": "stream",
     "text": [
      "task C left with 9 seconds\n",
      "task B left withtask A left with  3 seconds\n",
      "6 seconds\n",
      "task C left withtask A left with 8 seconds\n",
      "task B left with 2 seconds\n",
      " 5 seconds\n",
      "task C left withtask A left with 7 seconds\n",
      " 1 seconds\n",
      "task B left with 4 seconds\n",
      "task C left withtask B left with 6 seconds\n",
      " 3 seconds\n",
      "task B left withtask C left with 2 seconds\n",
      " 5 seconds\n",
      "task B left withtask C left with 4 seconds\n",
      " 1 seconds\n",
      "task C left with 3 seconds\n",
      "task C left with 2 seconds\n",
      "task C left with 1 seconds\n"
     ]
    }
   ],
   "source": [
    "tc.start()\n",
    "tb.start()\n",
    "ta.start() "
   ]
  },
  {
   "cell_type": "code",
   "execution_count": 12,
   "metadata": {},
   "outputs": [
    {
     "name": "stdout",
     "output_type": "stream",
     "text": [
      "task A left with 3 seconds\n",
      "task A left with 2 seconds\n",
      "task A left with 1 seconds\n",
      "task B left with 6 seconds\n",
      "task B left with 5 seconds\n",
      "task B left with 4 seconds\n",
      "task B left with 3 seconds\n",
      "task B left with 2 seconds\n",
      "task B left with 1 seconds\n",
      "task C left with 9 seconds\n",
      "task C left with 8 seconds\n",
      "task C left with 7 seconds\n",
      "task C left with 6 seconds\n",
      "task C left with 5 seconds\n",
      "task C left with 4 seconds\n",
      "task C left with 3 seconds\n",
      "task C left with 2 seconds\n",
      "task C left with 1 seconds\n"
     ]
    }
   ],
   "source": [
    "taska()\n",
    "taskb()\n",
    "taskc()"
   ]
  },
  {
   "cell_type": "code",
   "execution_count": 24,
   "metadata": {},
   "outputs": [],
   "source": [
    "def taskb(la):\n",
    "    for i in range(la, 0, -1):\n",
    "        print(threading.current_thread().name)\n",
    "        time.sleep(1)"
   ]
  },
  {
   "cell_type": "code",
   "execution_count": 25,
   "metadata": {},
   "outputs": [],
   "source": [
    "ta = threading.Thread(target=taska, name=\"file write\")\n",
    "tb = threading.Thread(target=taskb, name=\"db creation\", args=(20,))\n",
    "tc = threading.Thread(target=taskc)"
   ]
  },
  {
   "cell_type": "code",
   "execution_count": 26,
   "metadata": {},
   "outputs": [
    {
     "name": "stdout",
     "output_type": "stream",
     "text": [
      "Thread-15db creation\n",
      "task A left with 3 seconds\n",
      "\n",
      "db creation\n",
      "task A left with 2 seconds\n",
      "Thread-15\n",
      "db creation\n",
      "Thread-15task A left with 1 seconds\n",
      "\n",
      "db creationThread-15\n",
      "\n",
      "db creationThread-15\n",
      "\n",
      "Thread-15db creation\n",
      "\n",
      "db creation\n",
      "Thread-15\n",
      "db creationThread-15\n",
      "\n",
      "Thread-15\n",
      "db creation\n",
      "db creation\n",
      "db creation\n",
      "db creation\n",
      "db creation\n",
      "db creation\n",
      "db creation\n",
      "db creation\n",
      "db creation\n",
      "db creation\n",
      "db creation\n",
      "db creation\n"
     ]
    }
   ],
   "source": [
    "tc.start()\n",
    "tb.start()\n",
    "ta.start() "
   ]
  },
  {
   "cell_type": "code",
   "execution_count": 29,
   "metadata": {},
   "outputs": [],
   "source": [
    "task = 0\n",
    "\n",
    "def task1():\n",
    "    global task\n",
    "    task = task + 1\n",
    "    print(\"task\", task, \"will start\")\n",
    "    for i in range (100000000):\n",
    "        n = i*i\n",
    "        pass\n",
    "        # some code\n",
    "    print(\"task\", task, \"ends now\")"
   ]
  },
  {
   "cell_type": "code",
   "execution_count": 30,
   "metadata": {},
   "outputs": [
    {
     "name": "stdout",
     "output_type": "stream",
     "text": [
      "task 1 will start\n",
      "task 1 ends now\n"
     ]
    }
   ],
   "source": [
    "task1()"
   ]
  },
  {
   "cell_type": "code",
   "execution_count": 31,
   "metadata": {},
   "outputs": [],
   "source": [
    "task = 0\n",
    "\n",
    "def task1():\n",
    "    global task\n",
    "    task = task + 1\n",
    "    print(\"task\", task, \"will start\")\n",
    "    for i in range (100000000):\n",
    "        n = i*i\n",
    "        pass\n",
    "        # some code\n",
    "    print(\"task\", task, \"ends now\")\n",
    "    \n",
    "    \n",
    "def task2():\n",
    "    global task\n",
    "    task = task + 1\n",
    "    print(\"task\", task, \"will start\")\n",
    "    for i in range (100000000):\n",
    "        n = i*i\n",
    "        pass\n",
    "        # some code\n",
    "    print(\"task\", task, \"ends now\")"
   ]
  },
  {
   "cell_type": "code",
   "execution_count": 32,
   "metadata": {},
   "outputs": [
    {
     "name": "stdout",
     "output_type": "stream",
     "text": [
      "task 1 will start\n",
      "task 1 ends now\n",
      "task 2 will start\n",
      "task 2 ends now\n"
     ]
    }
   ],
   "source": [
    "task1()\n",
    "task2()"
   ]
  },
  {
   "cell_type": "code",
   "execution_count": 33,
   "metadata": {},
   "outputs": [
    {
     "name": "stdout",
     "output_type": "stream",
     "text": [
      "tasktask 1 will start 2 will start\n",
      "\n",
      "task 2 ends now\n",
      "task 2 ends now\n"
     ]
    }
   ],
   "source": [
    "task = 0\n",
    "\n",
    "def task1():\n",
    "    global task\n",
    "    task = task + 1\n",
    "    print(\"task\", task, \"will start\")\n",
    "    for i in range (100000000):\n",
    "        n = i*i\n",
    "        pass\n",
    "        # some code\n",
    "    print(\"task\", task, \"ends now\")\n",
    "    \n",
    "    \n",
    "def task2():\n",
    "    global task\n",
    "    task = task + 1\n",
    "    print(\"task\", task, \"will start\")\n",
    "    for i in range (100000000):\n",
    "        n = i*i\n",
    "        pass\n",
    "        # some code\n",
    "    print(\"task\", task, \"ends now\")\n",
    "    \n",
    "    \n",
    "t1 = threading.Thread(target=task1)\n",
    "t2 = threading.Thread(target=task2)\n",
    "\n",
    "t1.start()\n",
    "t2.start()"
   ]
  },
  {
   "cell_type": "code",
   "execution_count": 34,
   "metadata": {},
   "outputs": [
    {
     "name": "stdout",
     "output_type": "stream",
     "text": [
      "task1 requests for lock\n",
      "task 1 will start\n",
      "task1 requests for lock\n",
      "task 1 will end now & release the lock\n",
      "task 2 will start\n",
      "task 2 will end now & release the lock\n"
     ]
    }
   ],
   "source": [
    "task = 0\n",
    "\n",
    "l = threading.Lock()\n",
    "\n",
    "\n",
    "def task1():\n",
    "    # some code\n",
    "    global l\n",
    "    print(\"task1 requests for lock\")\n",
    "    l.acquire()\n",
    "    global task\n",
    "    task = task + 1\n",
    "    print(\"task\", task, \"will start\")\n",
    "    for i in range (100000000):\n",
    "        n = i*i\n",
    "        pass\n",
    "        # some code\n",
    "    print(\"task\", task, \"will end now & release the lock\")\n",
    "    l.release()\n",
    "    \n",
    "    \n",
    "def task2():\n",
    "    # some code\n",
    "    global l\n",
    "    print(\"task1 requests for lock\")\n",
    "    l.acquire()\n",
    "    global task\n",
    "    task = task + 1\n",
    "    print(\"task\", task, \"will start\")\n",
    "    for i in range (100000000):\n",
    "        n = i*i\n",
    "        pass\n",
    "        # some code\n",
    "    print(\"task\", task, \"will end now & release the lock\")\n",
    "    l.release()\n",
    "    \n",
    "    \n",
    "t1 = threading.Thread(target=task1)\n",
    "t2 = threading.Thread(target=task2)\n",
    "\n",
    "t1.start()\n",
    "t2.start()"
   ]
  },
  {
   "cell_type": "code",
   "execution_count": null,
   "metadata": {},
   "outputs": [],
   "source": []
  },
  {
   "cell_type": "code",
   "execution_count": 35,
   "metadata": {},
   "outputs": [
    {
     "name": "stdout",
     "output_type": "stream",
     "text": [
      "task A left with 12task B left with  seconds15\n",
      " seconds\n",
      "task A left with task B left with11  14seconds \n",
      "seconds\n",
      "task A left with task B left with10  13seconds \n",
      "seconds\n",
      "task A left with 9task B left with  seconds12\n",
      " seconds\n",
      "task A left with 8 task B left with seconds11\n",
      " seconds\n",
      "task A left with task B left with7  seconds10\n",
      " seconds\n",
      "task A left with task B left with6  9seconds seconds\n",
      "\n",
      "task A left withtask B left with  58  secondsseconds\n",
      "\n",
      "task A left withtask B left with  74  secondsseconds\n",
      "\n",
      "task B left withtask A left with  63  secondsseconds\n",
      "\n",
      "task B left with task A left with5 2 seconds seconds\n",
      "\n",
      "task B left withtask A left with  41  secondsseconds\n",
      "\n",
      "task B left with 3 seconds\n",
      "task B left with 2 seconds\n",
      "task B left with 1 seconds\n"
     ]
    }
   ],
   "source": [
    "import multiprocessing\n",
    "\n",
    "def taska():\n",
    "    for i in range(12, 0, -1):\n",
    "        print(\"task A left with\", i, \"seconds\")\n",
    "        time.sleep(1)\n",
    "        \n",
    "def taskb():\n",
    "    for i in range(15, 0, -1):\n",
    "        print(\"task B left with\", i, \"seconds\")\n",
    "        time.sleep(1)\n",
    "        \n",
    "pa = multiprocessing.Process(target=taska)\n",
    "pb = multiprocessing.Process(target=taskb)\n",
    "\n",
    "pa.start()\n",
    "pb.start()"
   ]
  },
  {
   "cell_type": "code",
   "execution_count": null,
   "metadata": {},
   "outputs": [],
   "source": []
  }
 ],
 "metadata": {
  "kernelspec": {
   "display_name": "Python 3",
   "language": "python",
   "name": "python3"
  },
  "language_info": {
   "codemirror_mode": {
    "name": "ipython",
    "version": 3
   },
   "file_extension": ".py",
   "mimetype": "text/x-python",
   "name": "python",
   "nbconvert_exporter": "python",
   "pygments_lexer": "ipython3",
   "version": "3.7.7"
  }
 },
 "nbformat": 4,
 "nbformat_minor": 4
}
