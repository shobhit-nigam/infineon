{
 "cells": [
  {
   "cell_type": "code",
   "execution_count": 1,
   "metadata": {},
   "outputs": [],
   "source": [
    "import re"
   ]
  },
  {
   "cell_type": "code",
   "execution_count": 4,
   "metadata": {},
   "outputs": [
    {
     "name": "stdout",
     "output_type": "stream",
     "text": [
      "heal\n",
      "its a match\n"
     ]
    }
   ],
   "source": [
    "stra = input()\n",
    "\n",
    "pat = '^h..l$'\n",
    "\n",
    "res = re.match(pat, stra)\n",
    "\n",
    "if res:\n",
    "    print(\"its a match\")\n",
    "else:\n",
    "    print(\"left swipe\")"
   ]
  },
  {
   "cell_type": "code",
   "execution_count": 6,
   "metadata": {},
   "outputs": [],
   "source": [
    "with open(\"data.txt\", \"r\") as fa:\n",
    "    stra = fa.read()"
   ]
  },
  {
   "cell_type": "code",
   "execution_count": 7,
   "metadata": {},
   "outputs": [
    {
     "name": "stdout",
     "output_type": "stream",
     "text": [
      "['2', '2', '3', '3', '6', '7']\n"
     ]
    }
   ],
   "source": [
    "pat = '\\d'\n",
    "\n",
    "res = re.findall(pat, stra)\n",
    "\n",
    "print(res)"
   ]
  },
  {
   "cell_type": "code",
   "execution_count": 8,
   "metadata": {},
   "outputs": [
    {
     "name": "stdout",
     "output_type": "stream",
     "text": [
      "['22', '33', '67']\n"
     ]
    }
   ],
   "source": [
    "pat = '\\d+'\n",
    "\n",
    "res = re.findall(pat, stra)\n",
    "\n",
    "print(res)"
   ]
  },
  {
   "cell_type": "code",
   "execution_count": 9,
   "metadata": {},
   "outputs": [
    {
     "name": "stdout",
     "output_type": "stream",
     "text": [
      "['22', '33', '67', '356']\n"
     ]
    }
   ],
   "source": [
    "with open(\"data.txt\", \"r\") as fa:\n",
    "    stra = fa.read()\n",
    "    \n",
    "pat = '\\d+'\n",
    "\n",
    "res = re.findall(pat, stra)\n",
    "\n",
    "print(res)    "
   ]
  },
  {
   "cell_type": "code",
   "execution_count": 10,
   "metadata": {},
   "outputs": [
    {
     "name": "stdout",
     "output_type": "stream",
     "text": [
      "['22', '33', '67', '356', '456', '765']\n"
     ]
    }
   ],
   "source": [
    "with open(\"data.txt\", \"r\") as fa:\n",
    "    stra = fa.read()\n",
    "    \n",
    "pat = '\\d{2,3}'\n",
    "\n",
    "res = re.findall(pat, stra)\n",
    "\n",
    "print(res)"
   ]
  },
  {
   "cell_type": "code",
   "execution_count": 11,
   "metadata": {},
   "outputs": [
    {
     "name": "stdout",
     "output_type": "stream",
     "text": [
      "['356', '4567', '765']\n"
     ]
    }
   ],
   "source": [
    "with open(\"data.txt\", \"r\") as fa:\n",
    "    stra = fa.read()\n",
    "    \n",
    "pat = '\\d{3,}'\n",
    "\n",
    "res = re.findall(pat, stra)\n",
    "\n",
    "print(res)"
   ]
  },
  {
   "cell_type": "code",
   "execution_count": 13,
   "metadata": {},
   "outputs": [
    {
     "name": "stdout",
     "output_type": "stream",
     "text": [
      "['hello ', ' hi ', ' howdy ', ' great ', '\\n', '7 ', '']\n"
     ]
    }
   ],
   "source": [
    "with open(\"data.txt\", \"r\") as fa:\n",
    "    stra = fa.read()\n",
    "    \n",
    "pat = '\\d{2,3}'\n",
    "\n",
    "res = re.split(pat, stra)\n",
    "\n",
    "print(res)"
   ]
  },
  {
   "cell_type": "code",
   "execution_count": 16,
   "metadata": {},
   "outputs": [
    {
     "name": "stdout",
     "output_type": "stream",
     "text": [
      "['hello', '22', 'hi', '33', 'howdy', '67', 'great', '356', '4567', '765', 'tt', 'ggg', 'yy']\n"
     ]
    }
   ],
   "source": [
    "with open(\"data.txt\", \"r\") as fa:\n",
    "    stra = fa.read()\n",
    "    \n",
    "pat = '\\s+'\n",
    "\n",
    "res = re.split(pat, stra)\n",
    "\n",
    "print(res)"
   ]
  },
  {
   "cell_type": "code",
   "execution_count": 17,
   "metadata": {},
   "outputs": [
    {
     "name": "stdout",
     "output_type": "stream",
     "text": [
      "hello22hi33howdy67great3564567765ttgggyy\n"
     ]
    }
   ],
   "source": [
    "with open(\"data.txt\", \"r\") as fa:\n",
    "    stra = fa.read()\n",
    "    \n",
    "pat = '\\s+'\n",
    "rep = ''\n",
    "\n",
    "res = re.sub(pat, rep, stra)\n",
    "\n",
    "print(res)"
   ]
  },
  {
   "cell_type": "code",
   "execution_count": 18,
   "metadata": {},
   "outputs": [
    {
     "name": "stdout",
     "output_type": "stream",
     "text": [
      "hello_22_hi_33_howdy_67_great_356_4567_765_tt_ggg_yy\n"
     ]
    }
   ],
   "source": [
    "with open(\"data.txt\", \"r\") as fa:\n",
    "    stra = fa.read()\n",
    "    \n",
    "pat = '\\s+'\n",
    "rep = '_'\n",
    "\n",
    "res = re.sub(pat, rep, stra)\n",
    "\n",
    "print(res)"
   ]
  },
  {
   "cell_type": "code",
   "execution_count": 19,
   "metadata": {},
   "outputs": [
    {
     "name": "stdout",
     "output_type": "stream",
     "text": [
      "hello ## hi ## howdy ## great ##\n",
      "## ##       tt \n",
      "ggg \n",
      "\n",
      "yy\n"
     ]
    }
   ],
   "source": [
    "with open(\"data.txt\", \"r\") as fa:\n",
    "    stra = fa.read()\n",
    "    \n",
    "pat = '\\d+'\n",
    "rep = '##'\n",
    "\n",
    "res = re.sub(pat, rep, stra)\n",
    "\n",
    "print(res)"
   ]
  },
  {
   "cell_type": "code",
   "execution_count": 20,
   "metadata": {},
   "outputs": [
    {
     "name": "stdout",
     "output_type": "stream",
     "text": [
      "hello_22_hi_33_howdy_67 great 356\n",
      "4567 765       tt \n",
      "ggg \n",
      "\n",
      "yy\n"
     ]
    }
   ],
   "source": [
    "with open(\"data.txt\", \"r\") as fa:\n",
    "    stra = fa.read()\n",
    "    \n",
    "pat = '\\s+'\n",
    "rep = '_'\n",
    "\n",
    "res = re.sub(pat, rep, stra, 5)\n",
    "\n",
    "print(res)"
   ]
  },
  {
   "cell_type": "code",
   "execution_count": 21,
   "metadata": {},
   "outputs": [
    {
     "name": "stdout",
     "output_type": "stream",
     "text": [
      "('hello_22_hi_33_howdy_67_great_356_4567_765_tt_ggg_yy', 12)\n"
     ]
    }
   ],
   "source": [
    "with open(\"data.txt\", \"r\") as fa:\n",
    "    stra = fa.read()\n",
    "    \n",
    "pat = '\\s+'\n",
    "rep = '_'\n",
    "\n",
    "res = re.subn(pat, rep, stra)\n",
    "\n",
    "print(res)"
   ]
  },
  {
   "cell_type": "code",
   "execution_count": 24,
   "metadata": {},
   "outputs": [
    {
     "name": "stdout",
     "output_type": "stream",
     "text": [
      "['hell', 'heal', 'heel', 'hell']\n"
     ]
    }
   ],
   "source": [
    "with open(\"data.txt\", \"r\") as fa:\n",
    "    stra = fa.read()\n",
    "    \n",
    "pat = 'he.l'\n",
    "\n",
    "res = re.findall(pat, stra)\n",
    "\n",
    "print(res) "
   ]
  },
  {
   "cell_type": "code",
   "execution_count": 25,
   "metadata": {},
   "outputs": [
    {
     "name": "stdout",
     "output_type": "stream",
     "text": [
      "['hell', 'HEAL', 'heal', 'heel', 'hell']\n"
     ]
    }
   ],
   "source": [
    "with open(\"data.txt\", \"r\") as fa:\n",
    "    stra = fa.read()\n",
    "    \n",
    "pat = 'he.l'\n",
    "\n",
    "res = re.findall(pat, stra, re.IGNORECASE)\n",
    "\n",
    "print(res) "
   ]
  },
  {
   "cell_type": "code",
   "execution_count": null,
   "metadata": {},
   "outputs": [],
   "source": []
  }
 ],
 "metadata": {
  "kernelspec": {
   "display_name": "Python 3",
   "language": "python",
   "name": "python3"
  },
  "language_info": {
   "codemirror_mode": {
    "name": "ipython",
    "version": 3
   },
   "file_extension": ".py",
   "mimetype": "text/x-python",
   "name": "python",
   "nbconvert_exporter": "python",
   "pygments_lexer": "ipython3",
   "version": "3.7.7"
  }
 },
 "nbformat": 4,
 "nbformat_minor": 4
}
