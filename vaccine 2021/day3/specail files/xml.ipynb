{
 "cells": [
  {
   "cell_type": "code",
   "execution_count": 1,
   "metadata": {},
   "outputs": [],
   "source": [
    "import xml.etree.ElementTree as ET"
   ]
  },
  {
   "cell_type": "code",
   "execution_count": 2,
   "metadata": {},
   "outputs": [],
   "source": [
    "tree_a = ET.parse('sample.xml')"
   ]
  },
  {
   "cell_type": "code",
   "execution_count": 3,
   "metadata": {},
   "outputs": [],
   "source": [
    "root_a = tree_a.getroot()"
   ]
  },
  {
   "cell_type": "code",
   "execution_count": 4,
   "metadata": {},
   "outputs": [
    {
     "data": {
      "text/plain": [
       "<Element 'catalog' at 0x7f9172fa02f0>"
      ]
     },
     "execution_count": 4,
     "metadata": {},
     "output_type": "execute_result"
    }
   ],
   "source": [
    "root_a"
   ]
  },
  {
   "cell_type": "code",
   "execution_count": 5,
   "metadata": {},
   "outputs": [
    {
     "data": {
      "text/plain": [
       "'catalog'"
      ]
     },
     "execution_count": 5,
     "metadata": {},
     "output_type": "execute_result"
    }
   ],
   "source": [
    "root_a.tag"
   ]
  },
  {
   "cell_type": "code",
   "execution_count": 6,
   "metadata": {},
   "outputs": [
    {
     "data": {
      "text/plain": [
       "{}"
      ]
     },
     "execution_count": 6,
     "metadata": {},
     "output_type": "execute_result"
    }
   ],
   "source": [
    "root_a.attrib"
   ]
  },
  {
   "cell_type": "code",
   "execution_count": 7,
   "metadata": {},
   "outputs": [
    {
     "data": {
      "text/plain": [
       "'book'"
      ]
     },
     "execution_count": 7,
     "metadata": {},
     "output_type": "execute_result"
    }
   ],
   "source": [
    "root_a[0].tag"
   ]
  },
  {
   "cell_type": "code",
   "execution_count": 8,
   "metadata": {},
   "outputs": [
    {
     "data": {
      "text/plain": [
       "{'id': 'bk101'}"
      ]
     },
     "execution_count": 8,
     "metadata": {},
     "output_type": "execute_result"
    }
   ],
   "source": [
    "root_a[0].attrib"
   ]
  },
  {
   "cell_type": "code",
   "execution_count": 9,
   "metadata": {},
   "outputs": [
    {
     "name": "stdout",
     "output_type": "stream",
     "text": [
      "author\n",
      "title\n",
      "genre\n",
      "price\n",
      "publish_date\n",
      "description\n"
     ]
    }
   ],
   "source": [
    "for x in root_a[0]:\n",
    "    print(x.tag)"
   ]
  },
  {
   "cell_type": "code",
   "execution_count": 10,
   "metadata": {},
   "outputs": [
    {
     "name": "stdout",
     "output_type": "stream",
     "text": [
      "Gambardella, Matthew\n",
      "XML Developer's Guide\n",
      "Computer\n",
      "44.95\n",
      "2000-10-01\n",
      "An in-depth look at creating applications \n",
      "      with XML.\n"
     ]
    }
   ],
   "source": [
    "for x in root_a[0]:\n",
    "    print(x.text)"
   ]
  },
  {
   "cell_type": "code",
   "execution_count": 11,
   "metadata": {},
   "outputs": [
    {
     "name": "stdout",
     "output_type": "stream",
     "text": [
      "Gambardella, Matthew\n",
      "Ralls, Kim\n",
      "Corets, Eva\n",
      "Corets, Eva\n",
      "Corets, Eva\n",
      "Randall, Cynthia\n",
      "Thurman, Paula\n",
      "Knorr, Stefan\n",
      "Kress, Peter\n",
      "O'Brien, Tim\n",
      "O'Brien, Tim\n",
      "Galos, Mike\n"
     ]
    }
   ],
   "source": [
    "for x in root_a:\n",
    "    print(x[0].text)"
   ]
  },
  {
   "cell_type": "code",
   "execution_count": 16,
   "metadata": {},
   "outputs": [
    {
     "name": "stdout",
     "output_type": "stream",
     "text": [
      "Gambardella, Matthew\n",
      "XML Developer's Guide\n",
      "Computer\n",
      "44.95\n",
      "2000-10-01\n",
      "An in-depth look at creating applications \n",
      "      with XML.\n",
      "Ralls, Kim\n",
      "Midnight Rain\n",
      "Fantasy\n",
      "5.95\n",
      "2000-12-16\n",
      "A former architect battles corporate zombies, \n",
      "      an evil sorceress, and her own childhood to become queen \n",
      "      of the world.\n",
      "Corets, Eva\n",
      "Maeve Ascendant\n",
      "Fantasy\n",
      "5.95\n",
      "2000-11-17\n",
      "After the collapse of a nanotechnology \n",
      "      society in England, the young survivors lay the \n",
      "      foundation for a new society.\n",
      "Corets, Eva\n",
      "Oberon's Legacy\n",
      "Fantasy\n",
      "5.95\n",
      "2001-03-10\n",
      "In post-apocalypse England, the mysterious \n",
      "      agent known only as Oberon helps to create a new life \n",
      "      for the inhabitants of London. Sequel to Maeve \n",
      "      Ascendant.\n",
      "Corets, Eva\n",
      "The Sundered Grail\n",
      "Fantasy\n",
      "5.95\n",
      "2001-09-10\n",
      "The two daughters of Maeve, half-sisters, \n",
      "      battle one another for control of England. Sequel to \n",
      "      Oberon's Legacy.\n",
      "Randall, Cynthia\n",
      "Lover Birds\n",
      "Romance\n",
      "4.95\n",
      "2000-09-02\n",
      "When Carla meets Paul at an ornithology \n",
      "      conference, tempers fly as feathers get ruffled.\n",
      "Thurman, Paula\n",
      "Splish Splash\n",
      "Romance\n",
      "4.95\n",
      "2000-11-02\n",
      "A deep sea diver finds true love twenty \n",
      "      thousand leagues beneath the sea.\n",
      "Knorr, Stefan\n",
      "Creepy Crawlies\n",
      "Horror\n",
      "4.95\n",
      "2000-12-06\n",
      "An anthology of horror stories about roaches,\n",
      "      centipedes, scorpions  and other insects.\n",
      "Kress, Peter\n",
      "Paradox Lost\n",
      "Science Fiction\n",
      "6.95\n",
      "2000-11-02\n",
      "After an inadvertant trip through a Heisenberg\n",
      "      Uncertainty Device, James Salway discovers the problems \n",
      "      of being quantum.\n",
      "O'Brien, Tim\n",
      "Microsoft .NET: The Programming Bible\n",
      "Computer\n",
      "36.95\n",
      "2000-12-09\n",
      "Microsoft's .NET initiative is explored in \n",
      "      detail in this deep programmer's reference.\n",
      "O'Brien, Tim\n",
      "MSXML3: A Comprehensive Guide\n",
      "Computer\n",
      "36.95\n",
      "2000-12-01\n",
      "The Microsoft MSXML3 parser is covered in \n",
      "      detail, with attention to XML DOM interfaces, XSLT processing, \n",
      "      SAX and more.\n",
      "Galos, Mike\n",
      "Visual Studio 7: A Comprehensive Guide\n",
      "Computer\n",
      "49.95\n",
      "2001-04-16\n",
      "Microsoft Visual Studio 7 is explored in depth,\n",
      "      looking at how Visual Basic, Visual C++, C#, and ASP+ are \n",
      "      integrated into a comprehensive development \n",
      "      environment.\n"
     ]
    }
   ],
   "source": [
    "for x in root_a:\n",
    "    for y in x:\n",
    "        print(y.text)"
   ]
  },
  {
   "cell_type": "code",
   "execution_count": 22,
   "metadata": {},
   "outputs": [],
   "source": [
    "dictx = {}\n",
    "\n",
    "for x in root_a:\n",
    "    dictx[x[0].text] = x[1].text"
   ]
  },
  {
   "cell_type": "code",
   "execution_count": 23,
   "metadata": {},
   "outputs": [
    {
     "data": {
      "text/plain": [
       "{'Gambardella, Matthew': \"XML Developer's Guide\",\n",
       " 'Ralls, Kim': 'Midnight Rain',\n",
       " 'Corets, Eva': 'The Sundered Grail',\n",
       " 'Randall, Cynthia': 'Lover Birds',\n",
       " 'Thurman, Paula': 'Splish Splash',\n",
       " 'Knorr, Stefan': 'Creepy Crawlies',\n",
       " 'Kress, Peter': 'Paradox Lost',\n",
       " \"O'Brien, Tim\": 'MSXML3: A Comprehensive Guide',\n",
       " 'Galos, Mike': 'Visual Studio 7: A Comprehensive Guide'}"
      ]
     },
     "execution_count": 23,
     "metadata": {},
     "output_type": "execute_result"
    }
   ],
   "source": [
    "dictx"
   ]
  },
  {
   "cell_type": "code",
   "execution_count": 25,
   "metadata": {},
   "outputs": [],
   "source": [
    "for x in root_a.iter('price'):\n",
    "    new_price = float(x.text) * 1.12\n",
    "    x.text = str(new_price)\n",
    "    x.set('updated', 'yes')\n",
    "    \n",
    "tree_a.write('sample_2.xml')"
   ]
  },
  {
   "cell_type": "code",
   "execution_count": null,
   "metadata": {},
   "outputs": [],
   "source": []
  }
 ],
 "metadata": {
  "kernelspec": {
   "display_name": "Python 3",
   "language": "python",
   "name": "python3"
  },
  "language_info": {
   "codemirror_mode": {
    "name": "ipython",
    "version": 3
   },
   "file_extension": ".py",
   "mimetype": "text/x-python",
   "name": "python",
   "nbconvert_exporter": "python",
   "pygments_lexer": "ipython3",
   "version": "3.7.7"
  }
 },
 "nbformat": 4,
 "nbformat_minor": 4
}
