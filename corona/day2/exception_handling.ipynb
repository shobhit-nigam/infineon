{
 "cells": [
  {
   "cell_type": "code",
   "execution_count": 1,
   "metadata": {},
   "outputs": [],
   "source": [
    "vara = 20\n",
    "varb = 100\n",
    "varc = 0"
   ]
  },
  {
   "cell_type": "code",
   "execution_count": 2,
   "metadata": {},
   "outputs": [
    {
     "ename": "ZeroDivisionError",
     "evalue": "division by zero",
     "output_type": "error",
     "traceback": [
      "\u001b[0;31m---------------------------------------------------------------------------\u001b[0m",
      "\u001b[0;31mZeroDivisionError\u001b[0m                         Traceback (most recent call last)",
      "\u001b[0;32m<ipython-input-2-714f97a75efc>\u001b[0m in \u001b[0;36m<module>\u001b[0;34m\u001b[0m\n\u001b[0;32m----> 1\u001b[0;31m \u001b[0mvarb\u001b[0m \u001b[0;34m=\u001b[0m \u001b[0mvara\u001b[0m\u001b[0;34m/\u001b[0m\u001b[0mvarc\u001b[0m\u001b[0;34m\u001b[0m\u001b[0;34m\u001b[0m\u001b[0m\n\u001b[0m",
      "\u001b[0;31mZeroDivisionError\u001b[0m: division by zero"
     ]
    }
   ],
   "source": [
    "varb = vara/varc"
   ]
  },
  {
   "cell_type": "code",
   "execution_count": 3,
   "metadata": {},
   "outputs": [
    {
     "name": "stdout",
     "output_type": "stream",
     "text": [
      "can not divide by zero\n"
     ]
    }
   ],
   "source": [
    "try:\n",
    "    varb = vara/varc\n",
    "    print(varb)\n",
    "except ZeroDivisionError:\n",
    "    print(\"can not divide by zero\")"
   ]
  },
  {
   "cell_type": "code",
   "execution_count": 5,
   "metadata": {},
   "outputs": [
    {
     "name": "stdout",
     "output_type": "stream",
     "text": [
      "get your namnes right\n"
     ]
    }
   ],
   "source": [
    "try:\n",
    "    varb = vara/vard\n",
    "    print(varb)\n",
    "except ZeroDivisionError:\n",
    "    print(\"can not divide by zero\")\n",
    "except NameError:\n",
    "    print(\"get your namnes right\")"
   ]
  },
  {
   "cell_type": "code",
   "execution_count": 6,
   "metadata": {},
   "outputs": [],
   "source": [
    "vara = 20\n",
    "varb = 100\n",
    "varc = 10"
   ]
  },
  {
   "cell_type": "code",
   "execution_count": 8,
   "metadata": {},
   "outputs": [
    {
     "name": "stdout",
     "output_type": "stream",
     "text": [
      "can not divide by zero\n"
     ]
    }
   ],
   "source": [
    "try:\n",
    "    varx = vara/0\n",
    "    print(varb)\n",
    "except ZeroDivisionError:\n",
    "    print(\"can not divide by zero\")\n",
    "except NameError:\n",
    "    print(\"get your namnes right\")"
   ]
  },
  {
   "cell_type": "code",
   "execution_count": 10,
   "metadata": {},
   "outputs": [],
   "source": [
    "pass"
   ]
  },
  {
   "cell_type": "code",
   "execution_count": 21,
   "metadata": {},
   "outputs": [
    {
     "name": "stdout",
     "output_type": "stream",
     "text": [
      "1\n",
      "2.0\n"
     ]
    }
   ],
   "source": [
    "lista = [3, 6, 8]\n",
    "\n",
    "try:\n",
    "    i = int(input())\n",
    "    varb = lista[i]/len(lista)\n",
    "    print(varb)\n",
    "except ZeroDivisionError:\n",
    "    print(\"can not divide by zero\")\n",
    "except NameError:\n",
    "    print(\"get your namnes right\")\n",
    "except:\n",
    "    print(\"general error\")"
   ]
  },
  {
   "cell_type": "code",
   "execution_count": 22,
   "metadata": {},
   "outputs": [
    {
     "name": "stdout",
     "output_type": "stream",
     "text": [
      "-2\n",
      "index should pe positive\n"
     ]
    }
   ],
   "source": [
    "lista = [3, 6, 8]\n",
    "\n",
    "try:\n",
    "    i = int(input())\n",
    "    try:\n",
    "        if i<0:\n",
    "            raise ValueError\n",
    "        else:\n",
    "            print(lista[i])\n",
    "    except ValueError:\n",
    "        print(\"index should pe positive\")\n",
    "except ZeroDivisionError:\n",
    "    print(\"can not divide by zero\")\n",
    "except NameError:\n",
    "    print(\"get your namnes right\")\n",
    "except IndexError:\n",
    "    print(\"gon beyond size of list\")"
   ]
  },
  {
   "cell_type": "code",
   "execution_count": 24,
   "metadata": {},
   "outputs": [
    {
     "name": "stdout",
     "output_type": "stream",
     "text": [
      "-5\n",
      "index should pe positive\n"
     ]
    }
   ],
   "source": [
    "lista = [3, 6, 8]\n",
    "\n",
    "try:\n",
    "    i = int(input())\n",
    "    try:\n",
    "        if i<0:\n",
    "            raise ValueError\n",
    "        else:\n",
    "            print(lista[i])\n",
    "    except ValueError:\n",
    "        print(\"index should pe positive\")\n",
    "except ZeroDivisionError:\n",
    "    print(\"can not divide by zero\")\n",
    "except NameError:\n",
    "    print(\"get your namnes right\")\n",
    "except IndexError:\n",
    "    print(\"gon beyond size of list\")"
   ]
  },
  {
   "cell_type": "code",
   "execution_count": 28,
   "metadata": {},
   "outputs": [
    {
     "name": "stdout",
     "output_type": "stream",
     "text": [
      "2\n",
      "finally block\n"
     ]
    },
    {
     "ename": "NameError",
     "evalue": "name 'listd' is not defined",
     "output_type": "error",
     "traceback": [
      "\u001b[0;31m---------------------------------------------------------------------------\u001b[0m",
      "\u001b[0;31mNameError\u001b[0m                                 Traceback (most recent call last)",
      "\u001b[0;32m<ipython-input-28-5b2826276a12>\u001b[0m in \u001b[0;36m<module>\u001b[0;34m\u001b[0m\n\u001b[1;32m      3\u001b[0m \u001b[0;32mtry\u001b[0m\u001b[0;34m:\u001b[0m\u001b[0;34m\u001b[0m\u001b[0;34m\u001b[0m\u001b[0m\n\u001b[1;32m      4\u001b[0m     \u001b[0mi\u001b[0m \u001b[0;34m=\u001b[0m \u001b[0mint\u001b[0m\u001b[0;34m(\u001b[0m\u001b[0minput\u001b[0m\u001b[0;34m(\u001b[0m\u001b[0;34m)\u001b[0m\u001b[0;34m)\u001b[0m\u001b[0;34m\u001b[0m\u001b[0;34m\u001b[0m\u001b[0m\n\u001b[0;32m----> 5\u001b[0;31m     \u001b[0mprint\u001b[0m\u001b[0;34m(\u001b[0m\u001b[0mlistd\u001b[0m\u001b[0;34m[\u001b[0m\u001b[0mi\u001b[0m\u001b[0;34m]\u001b[0m\u001b[0;34m)\u001b[0m\u001b[0;34m\u001b[0m\u001b[0;34m\u001b[0m\u001b[0m\n\u001b[0m\u001b[1;32m      6\u001b[0m \u001b[0;32mexcept\u001b[0m \u001b[0mZeroDivisionError\u001b[0m\u001b[0;34m:\u001b[0m\u001b[0;34m\u001b[0m\u001b[0;34m\u001b[0m\u001b[0m\n\u001b[1;32m      7\u001b[0m     \u001b[0mprint\u001b[0m\u001b[0;34m(\u001b[0m\u001b[0;34m\"can not divide by zero\"\u001b[0m\u001b[0;34m)\u001b[0m\u001b[0;34m\u001b[0m\u001b[0;34m\u001b[0m\u001b[0m\n",
      "\u001b[0;31mNameError\u001b[0m: name 'listd' is not defined"
     ]
    }
   ],
   "source": [
    "lista = [3, 6, 8]\n",
    "\n",
    "try:\n",
    "    i = int(input())\n",
    "    print(listd[i])\n",
    "except ZeroDivisionError:\n",
    "    print(\"can not divide by zero\")\n",
    "except IndexError:\n",
    "    print(\"gon beyond size of list\")\n",
    "else:\n",
    "    print(\"else part\")\n",
    "finally:\n",
    "    print(\"finally block\")\n",
    "\n",
    "print(\"last line\")"
   ]
  },
  {
   "cell_type": "code",
   "execution_count": 30,
   "metadata": {},
   "outputs": [
    {
     "name": "stdout",
     "output_type": "stream",
     "text": [
      "Help on class Exception in module builtins:\n",
      "\n",
      "class Exception(BaseException)\n",
      " |  Common base class for all non-exit exceptions.\n",
      " |  \n",
      " |  Method resolution order:\n",
      " |      Exception\n",
      " |      BaseException\n",
      " |      object\n",
      " |  \n",
      " |  Methods defined here:\n",
      " |  \n",
      " |  __init__(self, /, *args, **kwargs)\n",
      " |      Initialize self.  See help(type(self)) for accurate signature.\n",
      " |  \n",
      " |  ----------------------------------------------------------------------\n",
      " |  Static methods defined here:\n",
      " |  \n",
      " |  __new__(*args, **kwargs) from builtins.type\n",
      " |      Create and return a new object.  See help(type) for accurate signature.\n",
      " |  \n",
      " |  ----------------------------------------------------------------------\n",
      " |  Methods inherited from BaseException:\n",
      " |  \n",
      " |  __delattr__(self, name, /)\n",
      " |      Implement delattr(self, name).\n",
      " |  \n",
      " |  __getattribute__(self, name, /)\n",
      " |      Return getattr(self, name).\n",
      " |  \n",
      " |  __reduce__(...)\n",
      " |      Helper for pickle.\n",
      " |  \n",
      " |  __repr__(self, /)\n",
      " |      Return repr(self).\n",
      " |  \n",
      " |  __setattr__(self, name, value, /)\n",
      " |      Implement setattr(self, name, value).\n",
      " |  \n",
      " |  __setstate__(...)\n",
      " |  \n",
      " |  __str__(self, /)\n",
      " |      Return str(self).\n",
      " |  \n",
      " |  with_traceback(...)\n",
      " |      Exception.with_traceback(tb) --\n",
      " |      set self.__traceback__ to tb and return self.\n",
      " |  \n",
      " |  ----------------------------------------------------------------------\n",
      " |  Data descriptors inherited from BaseException:\n",
      " |  \n",
      " |  __cause__\n",
      " |      exception cause\n",
      " |  \n",
      " |  __context__\n",
      " |      exception context\n",
      " |  \n",
      " |  __dict__\n",
      " |  \n",
      " |  __suppress_context__\n",
      " |  \n",
      " |  __traceback__\n",
      " |  \n",
      " |  args\n",
      "\n"
     ]
    }
   ],
   "source": [
    "help(Exception)"
   ]
  },
  {
   "cell_type": "code",
   "execution_count": 31,
   "metadata": {},
   "outputs": [],
   "source": [
    "class AppExcept(Exception):\n",
    "    \"\"\"base class for all our application\n",
    "    based exceptions\"\"\""
   ]
  },
  {
   "cell_type": "code",
   "execution_count": 32,
   "metadata": {},
   "outputs": [],
   "source": [
    "class SmallValue(AppExcept):\n",
    "    \"\"\"value is too small\"\"\"\n",
    "    pass\n",
    "\n",
    "class LargeValue(AppExcept):\n",
    "    \"\"\"value is too large\"\"\"\n",
    "    pass"
   ]
  },
  {
   "cell_type": "code",
   "execution_count": 33,
   "metadata": {},
   "outputs": [],
   "source": [
    "num = 10"
   ]
  },
  {
   "cell_type": "code",
   "execution_count": 34,
   "metadata": {},
   "outputs": [
    {
     "name": "stdout",
     "output_type": "stream",
     "text": [
      "enter a num: 19\n",
      "value is too large\n",
      "enter a num: 4\n",
      "value is too small\n",
      "enter a num: 8\n",
      "value is too small\n",
      "enter a num: 10\n",
      "you have guessed it right\n"
     ]
    }
   ],
   "source": [
    "while True:\n",
    "    try:\n",
    "        n = int(input('enter a num: '))\n",
    "        if n < num:\n",
    "            raise SmallValue\n",
    "        elif n > num:\n",
    "            raise LargeValue\n",
    "        else:\n",
    "            break\n",
    "    except SmallValue:\n",
    "        print(SmallValue.__doc__)\n",
    "    except LargeValue:\n",
    "        print(LargeValue.__doc__)\n",
    "\n",
    "print(\"you have guessed it right\")"
   ]
  },
  {
   "cell_type": "code",
   "execution_count": null,
   "metadata": {},
   "outputs": [],
   "source": []
  }
 ],
 "metadata": {
  "kernelspec": {
   "display_name": "Python 3",
   "language": "python",
   "name": "python3"
  },
  "language_info": {
   "codemirror_mode": {
    "name": "ipython",
    "version": 3
   },
   "file_extension": ".py",
   "mimetype": "text/x-python",
   "name": "python",
   "nbconvert_exporter": "python",
   "pygments_lexer": "ipython3",
   "version": "3.7.4"
  }
 },
 "nbformat": 4,
 "nbformat_minor": 2
}
