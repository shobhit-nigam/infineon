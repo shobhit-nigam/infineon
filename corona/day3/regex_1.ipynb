{
 "cells": [
  {
   "cell_type": "code",
   "execution_count": 1,
   "metadata": {},
   "outputs": [],
   "source": [
    "import re"
   ]
  },
  {
   "cell_type": "code",
   "execution_count": 2,
   "metadata": {},
   "outputs": [],
   "source": [
    "pat = '^a..a$'"
   ]
  },
  {
   "cell_type": "code",
   "execution_count": 3,
   "metadata": {},
   "outputs": [
    {
     "name": "stdout",
     "output_type": "stream",
     "text": [
      " asia\n"
     ]
    }
   ],
   "source": [
    "stra = input(' ')"
   ]
  },
  {
   "cell_type": "code",
   "execution_count": 4,
   "metadata": {},
   "outputs": [
    {
     "name": "stdout",
     "output_type": "stream",
     "text": [
      " asia\n",
      "pattern found\n"
     ]
    }
   ],
   "source": [
    "pat = '^a..a$'\n",
    "stra = input(' ')\n",
    "res = re.match(pat, stra)\n",
    "\n",
    "if res:\n",
    "    print(\"pattern found\")\n",
    "else:\n",
    "    print(\"not found\")"
   ]
  },
  {
   "cell_type": "code",
   "execution_count": 5,
   "metadata": {},
   "outputs": [
    {
     "name": "stdout",
     "output_type": "stream",
     "text": [
      " aka\n",
      "not found\n"
     ]
    }
   ],
   "source": [
    "pat = '^a..a$'\n",
    "stra = input(' ')\n",
    "res = re.match(pat, stra)\n",
    "\n",
    "if res:\n",
    "    print(\"pattern found\")\n",
    "else:\n",
    "    print(\"not found\")"
   ]
  },
  {
   "cell_type": "code",
   "execution_count": 7,
   "metadata": {},
   "outputs": [
    {
     "name": "stdout",
     "output_type": "stream",
     "text": [
      " hello 1 hi 2 how 23\n",
      "\n",
      " ['1', '2', '2', '3']\n"
     ]
    }
   ],
   "source": [
    "pat = '\\d'\n",
    "stra = input(' ')\n",
    "res = re.findall(pat, stra)\n",
    "\n",
    "print('\\n',res)"
   ]
  },
  {
   "cell_type": "code",
   "execution_count": 8,
   "metadata": {},
   "outputs": [
    {
     "name": "stdout",
     "output_type": "stream",
     "text": [
      " hello 1 hi 2 how 23\n",
      "\n",
      " ['1', '2', '23']\n"
     ]
    }
   ],
   "source": [
    "pat = '\\d+'\n",
    "stra = input(' ')\n",
    "res = re.findall(pat, stra)\n",
    "\n",
    "print('\\n',res)"
   ]
  },
  {
   "cell_type": "code",
   "execution_count": 9,
   "metadata": {},
   "outputs": [
    {
     "name": "stdout",
     "output_type": "stream",
     "text": [
      " 1 23 456 78\n",
      "\n",
      " ['23', '45', '78']\n"
     ]
    }
   ],
   "source": [
    "pat = '\\d{2}'\n",
    "stra = input(' ')\n",
    "res = re.findall(pat, stra)\n",
    "\n",
    "print('\\n',res)"
   ]
  },
  {
   "cell_type": "code",
   "execution_count": 10,
   "metadata": {},
   "outputs": [
    {
     "name": "stdout",
     "output_type": "stream",
     "text": [
      " 1 23 456 78954 37243845384\n",
      "\n",
      " ['23', '456', '78954', '372438', '45384']\n"
     ]
    }
   ],
   "source": [
    "pat = '\\d{2,6}'\n",
    "stra = input(' ')\n",
    "res = re.findall(pat, stra)\n",
    "\n",
    "print('\\n',res)"
   ]
  },
  {
   "cell_type": "code",
   "execution_count": 11,
   "metadata": {},
   "outputs": [
    {
     "name": "stdout",
     "output_type": "stream",
     "text": [
      " 1 23 456 78954 37243845384\n",
      "\n",
      " ['23', '456', '78954', '37243845384']\n"
     ]
    }
   ],
   "source": [
    "pat = '\\d{2,}'\n",
    "stra = input(' ')\n",
    "res = re.findall(pat, stra)\n",
    "\n",
    "print('\\n',res)"
   ]
  },
  {
   "cell_type": "code",
   "execution_count": 13,
   "metadata": {},
   "outputs": [
    {
     "name": "stdout",
     "output_type": "stream",
     "text": [
      " hell\n",
      "\n",
      " ['hell']\n"
     ]
    }
   ],
   "source": [
    "pat = '^h..l$'\n",
    "stra = input(' ')\n",
    "res = re.findall(pat, stra)\n",
    "\n",
    "print('\\n',res)"
   ]
  },
  {
   "cell_type": "code",
   "execution_count": 14,
   "metadata": {},
   "outputs": [
    {
     "name": "stdout",
     "output_type": "stream",
     "text": [
      "mysore\bangalore\n"
     ]
    }
   ],
   "source": [
    "print(\"mysore\\bangalore\")"
   ]
  },
  {
   "cell_type": "code",
   "execution_count": 15,
   "metadata": {},
   "outputs": [
    {
     "name": "stdout",
     "output_type": "stream",
     "text": [
      "mysore\\bangalore\n"
     ]
    }
   ],
   "source": [
    "print(\"mysore\\\\bangalore\")"
   ]
  },
  {
   "cell_type": "code",
   "execution_count": 16,
   "metadata": {},
   "outputs": [
    {
     "name": "stdout",
     "output_type": "stream",
     "text": [
      "mysore\\bangalore\n"
     ]
    }
   ],
   "source": [
    "print(r\"mysore\\bangalore\")"
   ]
  },
  {
   "cell_type": "code",
   "execution_count": 17,
   "metadata": {},
   "outputs": [],
   "source": [
    "strb = r\"paris\\newyork\\tokyo\""
   ]
  },
  {
   "cell_type": "code",
   "execution_count": 18,
   "metadata": {},
   "outputs": [
    {
     "name": "stdout",
     "output_type": "stream",
     "text": [
      "paris\\newyork\\tokyo\n"
     ]
    }
   ],
   "source": [
    "print(strb)"
   ]
  },
  {
   "cell_type": "code",
   "execution_count": 19,
   "metadata": {},
   "outputs": [
    {
     "data": {
      "text/plain": [
       "'paris\\\\newyork\\\\tokyo'"
      ]
     },
     "execution_count": 19,
     "metadata": {},
     "output_type": "execute_result"
    }
   ],
   "source": [
    "strb"
   ]
  },
  {
   "cell_type": "code",
   "execution_count": 20,
   "metadata": {},
   "outputs": [
    {
     "name": "stdout",
     "output_type": "stream",
     "text": [
      " hello,how are you:great me\n",
      "\n",
      " ['hello,how', 'are', 'you:great', 'me']\n"
     ]
    }
   ],
   "source": [
    "pat = '\\s'\n",
    "stra = input(' ')\n",
    "res = re.split(pat, stra)\n",
    "\n",
    "print('\\n',res)"
   ]
  },
  {
   "cell_type": "code",
   "execution_count": 21,
   "metadata": {},
   "outputs": [],
   "source": [
    "fa = open('one.txt', 'r')\n",
    "stra = fa.read()\n",
    "lista = stra.split()"
   ]
  },
  {
   "cell_type": "code",
   "execution_count": 22,
   "metadata": {},
   "outputs": [
    {
     "data": {
      "text/plain": [
       "['thor:hammer', 'captain:shield', 'shaktiman:spin', 'krish:fly']"
      ]
     },
     "execution_count": 22,
     "metadata": {},
     "output_type": "execute_result"
    }
   ],
   "source": [
    "lista"
   ]
  },
  {
   "cell_type": "code",
   "execution_count": 23,
   "metadata": {},
   "outputs": [],
   "source": [
    "dicta = {}\n",
    "for data in lista:\n",
    "    temp = data.split(':')\n",
    "    dicta[temp[0]] = temp[1]"
   ]
  },
  {
   "cell_type": "code",
   "execution_count": 24,
   "metadata": {},
   "outputs": [
    {
     "data": {
      "text/plain": [
       "{'thor': 'hammer', 'captain': 'shield', 'shaktiman': 'spin', 'krish': 'fly'}"
      ]
     },
     "execution_count": 24,
     "metadata": {},
     "output_type": "execute_result"
    }
   ],
   "source": [
    "dicta"
   ]
  },
  {
   "cell_type": "code",
   "execution_count": 25,
   "metadata": {},
   "outputs": [],
   "source": [
    "fa = open('one.txt', 'r')\n",
    "stra = fa.read()\n",
    "fa.close()\n",
    "dicta = {}\n",
    "lista = stra.split()\n",
    "\n",
    "for data in lista:\n",
    "    temp = data.split(':')\n",
    "    dicta[temp[0]] = temp[1]"
   ]
  },
  {
   "cell_type": "code",
   "execution_count": 26,
   "metadata": {},
   "outputs": [
    {
     "data": {
      "text/plain": [
       "{'thor': 'hammer', 'captain': 'shield', 'shaktiman': 'spin', 'krish': 'fly'}"
      ]
     },
     "execution_count": 26,
     "metadata": {},
     "output_type": "execute_result"
    }
   ],
   "source": [
    "dicta"
   ]
  },
  {
   "cell_type": "code",
   "execution_count": 27,
   "metadata": {},
   "outputs": [],
   "source": [
    "strb = \"\"\"ttt 23 de \n",
    "34 ggg 12 sss pp\"\"\""
   ]
  },
  {
   "cell_type": "code",
   "execution_count": 28,
   "metadata": {},
   "outputs": [],
   "source": [
    "pat = '\\s+'\n",
    "rep = '_'\n",
    "\n",
    "strc = re.sub(pattern=pat, repl=rep, string=strb)"
   ]
  },
  {
   "cell_type": "code",
   "execution_count": 29,
   "metadata": {},
   "outputs": [
    {
     "name": "stdout",
     "output_type": "stream",
     "text": [
      "ttt_23_de_34_ggg_12_sss_pp\n"
     ]
    }
   ],
   "source": [
    "print(strc)"
   ]
  },
  {
   "cell_type": "code",
   "execution_count": 30,
   "metadata": {},
   "outputs": [],
   "source": [
    "pat = '\\s+'\n",
    "rep = '_'\n",
    "\n",
    "strc = re.sub(pattern=pat, repl=rep, string=strb, count=3)"
   ]
  },
  {
   "cell_type": "code",
   "execution_count": 31,
   "metadata": {},
   "outputs": [
    {
     "name": "stdout",
     "output_type": "stream",
     "text": [
      "ttt_23_de_34 ggg 12 sss pp\n"
     ]
    }
   ],
   "source": [
    "print(strc)"
   ]
  },
  {
   "cell_type": "code",
   "execution_count": 32,
   "metadata": {},
   "outputs": [],
   "source": [
    "pat = '\\s+'\n",
    "rep = '_'\n",
    "\n",
    "strd = re.subn(pattern=pat, repl=rep, string=strb)"
   ]
  },
  {
   "cell_type": "code",
   "execution_count": 33,
   "metadata": {},
   "outputs": [
    {
     "name": "stdout",
     "output_type": "stream",
     "text": [
      "('ttt_23_de_34_ggg_12_sss_pp', 7)\n"
     ]
    }
   ],
   "source": [
    "print(strd)"
   ]
  },
  {
   "cell_type": "code",
   "execution_count": 44,
   "metadata": {},
   "outputs": [],
   "source": [
    "pat = '(25[0-5]|2[0-4][0-9]|1[0-9][0-9]|[1-9]?[0-9])\\.(25[0-5]|2[0-4][0-9]|1[0-9][0-9]|[1-9]?[0-9])\\.(25[0-5]|2[0-4][0-9]|1[0-9][0-9]|[1-9]?[0-9])\\.(25[0-5]|2[0-4][0-9]|1[0-9][0-9]|[1-9]?[0-9])'"
   ]
  },
  {
   "cell_type": "code",
   "execution_count": 45,
   "metadata": {},
   "outputs": [
    {
     "name": "stdout",
     "output_type": "stream",
     "text": [
      " 1.1.1.9\n",
      "valid ip\n"
     ]
    }
   ],
   "source": [
    "stra = input(' ')\n",
    "res = re.match(pat, stra)\n",
    "\n",
    "if res:\n",
    "    print(\"valid ip\")\n",
    "else:\n",
    "    print(\"not valid ip\")"
   ]
  },
  {
   "cell_type": "code",
   "execution_count": 37,
   "metadata": {},
   "outputs": [
    {
     "name": "stdout",
     "output_type": "stream",
     "text": [
      " 312.45.678.123\n",
      "not valid ip\n"
     ]
    }
   ],
   "source": [
    "stra = input(' ')\n",
    "res = re.match(pat, stra)\n",
    "\n",
    "if res:\n",
    "    print(\"valid ip\")\n",
    "else:\n",
    "    print(\"not valid ip\")"
   ]
  },
  {
   "cell_type": "code",
   "execution_count": 43,
   "metadata": {},
   "outputs": [
    {
     "name": "stdout",
     "output_type": "stream",
     "text": [
      " 1.1.1.9\n",
      "not valid ip\n"
     ]
    }
   ],
   "source": [
    "stra = input(' ')\n",
    "res = re.match(pat, stra)\n",
    "\n",
    "if res:\n",
    "    print(\"valid ip\")\n",
    "else:\n",
    "    print(\"not valid ip\")"
   ]
  },
  {
   "cell_type": "code",
   "execution_count": null,
   "metadata": {},
   "outputs": [],
   "source": []
  }
 ],
 "metadata": {
  "kernelspec": {
   "display_name": "Python 3",
   "language": "python",
   "name": "python3"
  },
  "language_info": {
   "codemirror_mode": {
    "name": "ipython",
    "version": 3
   },
   "file_extension": ".py",
   "mimetype": "text/x-python",
   "name": "python",
   "nbconvert_exporter": "python",
   "pygments_lexer": "ipython3",
   "version": "3.7.4"
  }
 },
 "nbformat": 4,
 "nbformat_minor": 2
}
