{
 "cells": [
  {
   "cell_type": "code",
   "execution_count": 2,
   "metadata": {},
   "outputs": [
    {
     "name": "stdout",
     "output_type": "stream",
     "text": [
      "67\n"
     ]
    }
   ],
   "source": [
    "varq = int(input())"
   ]
  },
  {
   "cell_type": "code",
   "execution_count": 3,
   "metadata": {},
   "outputs": [
    {
     "data": {
      "text/plain": [
       "int"
      ]
     },
     "execution_count": 3,
     "metadata": {},
     "output_type": "execute_result"
    }
   ],
   "source": [
    "type(varq)"
   ]
  },
  {
   "cell_type": "code",
   "execution_count": 5,
   "metadata": {},
   "outputs": [
    {
     "name": "stdout",
     "output_type": "stream",
     "text": [
      "70\n",
      "more than or equal to 60\n"
     ]
    }
   ],
   "source": [
    "varq = int(input())\n",
    "\n",
    "if varq < 60:\n",
    "    print(\"less than 60\")\n",
    "    print(\"\")\n",
    "else:\n",
    "    print(\"more than or equal to 60\")"
   ]
  },
  {
   "cell_type": "code",
   "execution_count": 7,
   "metadata": {},
   "outputs": [
    {
     "name": "stdout",
     "output_type": "stream",
     "text": [
      "54\n",
      "less than 60\n",
      "\n"
     ]
    }
   ],
   "source": [
    "varq = int(input())\n",
    "\n",
    "if varq < 60:\n",
    "    print(\"less than 60\")\n",
    "    print(\"\")\n",
    "else:\n",
    "    print(\"more than or equal to 60\")"
   ]
  },
  {
   "cell_type": "code",
   "execution_count": 8,
   "metadata": {},
   "outputs": [
    {
     "name": "stdout",
     "output_type": "stream",
     "text": [
      "less than 60\n",
      "\n"
     ]
    }
   ],
   "source": [
    "if varq < 60:\n",
    "    print(\"less than 60\")\n",
    "    print(\"\")\n",
    "elif varq == 60:\n",
    "    print(\"equal to 60\")\n",
    "else:\n",
    "    print(\"more tha 60\")"
   ]
  },
  {
   "cell_type": "code",
   "execution_count": 10,
   "metadata": {},
   "outputs": [
    {
     "name": "stdout",
     "output_type": "stream",
     "text": [
      "less than 60\n",
      "\n"
     ]
    }
   ],
   "source": [
    "if varq < 60:\n",
    "    print(\"less than 60\")\n",
    "    print(\"\")\n",
    "elif varq == 60:\n",
    "    print(\"equal to 60\")\n",
    "else:\n",
    "    pass"
   ]
  },
  {
   "cell_type": "code",
   "execution_count": 11,
   "metadata": {},
   "outputs": [
    {
     "name": "stdout",
     "output_type": "stream",
     "text": [
      "40\n",
      "60\n",
      "less than 60\n",
      "\n"
     ]
    }
   ],
   "source": [
    "varq = int(input())\n",
    "varr = int(input())\n",
    "\n",
    "if varq < 60 and varr > 50:\n",
    "    print(\"less than 60\")\n",
    "    print(\"\")\n",
    "else:\n",
    "    print(\"more than or equal to 60\")"
   ]
  },
  {
   "cell_type": "code",
   "execution_count": null,
   "metadata": {},
   "outputs": [],
   "source": [
    "varq = int(input())\n",
    "varr = int(input())\n",
    "\n",
    "if varq > 30 and varq < 60 :\n",
    "    print(\"less than 60\")\n",
    "    print(\"\")\n",
    "else:\n",
    "    print(\"more than or equal to 60\")"
   ]
  },
  {
   "cell_type": "code",
   "execution_count": 12,
   "metadata": {},
   "outputs": [
    {
     "data": {
      "text/plain": [
       "True"
      ]
     },
     "execution_count": 12,
     "metadata": {},
     "output_type": "execute_result"
    }
   ],
   "source": [
    "varq > 30 and varq < 60"
   ]
  },
  {
   "cell_type": "code",
   "execution_count": 13,
   "metadata": {},
   "outputs": [
    {
     "data": {
      "text/plain": [
       "True"
      ]
     },
     "execution_count": 13,
     "metadata": {},
     "output_type": "execute_result"
    }
   ],
   "source": [
    "30 < varq < 60\n",
    "\n",
    "# chain"
   ]
  },
  {
   "cell_type": "code",
   "execution_count": 14,
   "metadata": {},
   "outputs": [
    {
     "name": "stdout",
     "output_type": "stream",
     "text": [
      "55\n",
      "varq = 55\n",
      "varq = 56\n",
      "varq = 57\n",
      "varq = 58\n",
      "varq = 59\n"
     ]
    }
   ],
   "source": [
    "varq = int(input())\n",
    "\n",
    "while(varq < 60):\n",
    "    print(\"varq =\", varq)\n",
    "    varq = varq+1"
   ]
  },
  {
   "cell_type": "code",
   "execution_count": 15,
   "metadata": {},
   "outputs": [
    {
     "name": "stdout",
     "output_type": "stream",
     "text": [
      "60\n"
     ]
    }
   ],
   "source": [
    "print(varq)"
   ]
  },
  {
   "cell_type": "code",
   "execution_count": 16,
   "metadata": {},
   "outputs": [
    {
     "name": "stdout",
     "output_type": "stream",
     "text": [
      "x is 0\n",
      "x is 1\n",
      "x is 2\n",
      "x is 3\n",
      "x is 4\n",
      "x is 5\n"
     ]
    }
   ],
   "source": [
    "for x in range(6):\n",
    "    print(\"x is\", x)"
   ]
  },
  {
   "cell_type": "code",
   "execution_count": 17,
   "metadata": {},
   "outputs": [
    {
     "name": "stdout",
     "output_type": "stream",
     "text": [
      "x is 2\n",
      "x is 3\n",
      "x is 4\n",
      "x is 5\n",
      "x is 6\n",
      "x is 7\n"
     ]
    }
   ],
   "source": [
    "for x in range(2, 8):\n",
    "    print(\"x is\", x)"
   ]
  },
  {
   "cell_type": "code",
   "execution_count": 18,
   "metadata": {},
   "outputs": [
    {
     "name": "stdout",
     "output_type": "stream",
     "text": [
      "x is 2\n",
      "x is 5\n",
      "x is 8\n",
      "x is 11\n",
      "x is 14\n",
      "x is 17\n"
     ]
    }
   ],
   "source": [
    "for x in range(2, 19, 3):\n",
    "    print(\"x is\", x)"
   ]
  },
  {
   "cell_type": "code",
   "execution_count": 19,
   "metadata": {},
   "outputs": [],
   "source": [
    "for x in range(13, 9):\n",
    "    print(\"x is\", x)"
   ]
  },
  {
   "cell_type": "code",
   "execution_count": 20,
   "metadata": {},
   "outputs": [
    {
     "name": "stdout",
     "output_type": "stream",
     "text": [
      "x is 13\n",
      "x is 12\n",
      "x is 11\n",
      "x is 10\n"
     ]
    }
   ],
   "source": [
    "for x in range(13, 9, -1):\n",
    "    print(\"x is\", x)"
   ]
  },
  {
   "cell_type": "code",
   "execution_count": 21,
   "metadata": {},
   "outputs": [],
   "source": [
    "lista = ['qq', 'tt', 'dd', 'yy', 'ss', 'qq', 'ff', 'dd']"
   ]
  },
  {
   "cell_type": "code",
   "execution_count": 22,
   "metadata": {},
   "outputs": [
    {
     "name": "stdout",
     "output_type": "stream",
     "text": [
      "lista[i] = qq\n",
      "lista[i] = tt\n",
      "lista[i] = dd\n",
      "lista[i] = yy\n",
      "lista[i] = ss\n",
      "lista[i] = qq\n",
      "lista[i] = ff\n",
      "lista[i] = dd\n"
     ]
    }
   ],
   "source": [
    "for i in range(len(lista)):\n",
    "    print(\"lista[i] =\", lista[i])"
   ]
  },
  {
   "cell_type": "code",
   "execution_count": 23,
   "metadata": {},
   "outputs": [
    {
     "name": "stdout",
     "output_type": "stream",
     "text": [
      "lista[i] = qq\n",
      "lista[i] = tt\n",
      "lista[i] = dd\n",
      "lista[i] = yy\n",
      "lista[i] = ss\n",
      "lista[i] = qq\n",
      "lista[i] = ff\n",
      "lista[i] = dd\n"
     ]
    }
   ],
   "source": [
    "for val in lista:\n",
    "    print(\"lista[i] =\", val)"
   ]
  },
  {
   "cell_type": "code",
   "execution_count": 24,
   "metadata": {},
   "outputs": [
    {
     "name": "stdout",
     "output_type": "stream",
     "text": [
      "val h\n",
      "val e\n",
      "val l\n",
      "val l\n",
      "val o\n"
     ]
    }
   ],
   "source": [
    "for val in \"hello\":\n",
    "    print(\"val\", val)"
   ]
  },
  {
   "cell_type": "code",
   "execution_count": 25,
   "metadata": {},
   "outputs": [],
   "source": [
    "listb = ['aa', 'rr', 'ss', 'ww', 'ii', 'xx', 'ff']"
   ]
  },
  {
   "cell_type": "code",
   "execution_count": 26,
   "metadata": {},
   "outputs": [],
   "source": [
    "lista = ['qq', 'tt', 'dd', 'yy', 'ss', 'qq', 'ff', 'dd']"
   ]
  },
  {
   "cell_type": "code",
   "execution_count": 27,
   "metadata": {},
   "outputs": [
    {
     "name": "stdout",
     "output_type": "stream",
     "text": [
      "ss\n",
      "ff\n"
     ]
    }
   ],
   "source": [
    "for a in lista:\n",
    "    if a in listb:\n",
    "        print(a)"
   ]
  },
  {
   "cell_type": "code",
   "execution_count": 28,
   "metadata": {},
   "outputs": [
    {
     "data": {
      "text/plain": [
       "6"
      ]
     },
     "execution_count": 28,
     "metadata": {},
     "output_type": "execute_result"
    }
   ],
   "source": [
    "lista.index('ff')"
   ]
  },
  {
   "cell_type": "code",
   "execution_count": 29,
   "metadata": {},
   "outputs": [
    {
     "name": "stdout",
     "output_type": "stream",
     "text": [
      "found common\n",
      "found common\n"
     ]
    }
   ],
   "source": [
    "listc = []\n",
    "\n",
    "for a in lista:\n",
    "    if a in listb:\n",
    "        listc.append(a)\n",
    "        print(\"found common\")"
   ]
  },
  {
   "cell_type": "code",
   "execution_count": 30,
   "metadata": {},
   "outputs": [
    {
     "name": "stdout",
     "output_type": "stream",
     "text": [
      "found common\n"
     ]
    }
   ],
   "source": [
    "listc = []\n",
    "\n",
    "for a in lista:\n",
    "    if a in listb:\n",
    "        print(\"found common\")\n",
    "        break"
   ]
  },
  {
   "cell_type": "code",
   "execution_count": 31,
   "metadata": {},
   "outputs": [],
   "source": [
    "listd = ['aa', 'rr', 'cc', 'ww', 'ii', 'xx', 'mm']"
   ]
  },
  {
   "cell_type": "code",
   "execution_count": 32,
   "metadata": {},
   "outputs": [],
   "source": [
    "for a in lista:\n",
    "    if a in listd:\n",
    "        print(\"found common\")\n",
    "        break"
   ]
  },
  {
   "cell_type": "code",
   "execution_count": 33,
   "metadata": {},
   "outputs": [
    {
     "name": "stdout",
     "output_type": "stream",
     "text": [
      "no common\n",
      "no common\n",
      "no common\n",
      "no common\n",
      "no common\n",
      "no common\n",
      "no common\n",
      "no common\n"
     ]
    }
   ],
   "source": [
    "for a in lista:\n",
    "    if a in listd:\n",
    "        print(\"found common\")\n",
    "        break\n",
    "    else:\n",
    "        print(\"no common\")"
   ]
  },
  {
   "cell_type": "code",
   "execution_count": 34,
   "metadata": {},
   "outputs": [
    {
     "name": "stdout",
     "output_type": "stream",
     "text": [
      "no common\n"
     ]
    }
   ],
   "source": [
    "for a in lista:\n",
    "    if a in listd:\n",
    "        print(\"found common\")\n",
    "        break\n",
    "else:\n",
    "    print(\"no common\")"
   ]
  },
  {
   "cell_type": "code",
   "execution_count": 35,
   "metadata": {},
   "outputs": [
    {
     "name": "stdout",
     "output_type": "stream",
     "text": [
      "found common\n"
     ]
    }
   ],
   "source": [
    "for a in lista:\n",
    "    if a in listb:\n",
    "        print(\"found common\")\n",
    "        break\n",
    "else:\n",
    "    print(\"no common\")"
   ]
  },
  {
   "cell_type": "code",
   "execution_count": 38,
   "metadata": {},
   "outputs": [
    {
     "name": "stdout",
     "output_type": "stream",
     "text": [
      "found common\n"
     ]
    }
   ],
   "source": [
    "for a in lista:\n",
    "    if a in listb:\n",
    "        print(\"found common\")\n",
    "        break\n",
    "else:\n",
    "    print(\"no common\")"
   ]
  },
  {
   "cell_type": "code",
   "execution_count": 39,
   "metadata": {},
   "outputs": [],
   "source": [
    "for a in lista:\n",
    "    break\n",
    "else:\n",
    "    print(\"no common\")"
   ]
  },
  {
   "cell_type": "code",
   "execution_count": 44,
   "metadata": {},
   "outputs": [
    {
     "name": "stdout",
     "output_type": "stream",
     "text": [
      "xrange(2, 5)\n"
     ]
    }
   ],
   "source": [
    "%%python2\n",
    "\n",
    "x = xrange(2, 5)\n",
    "\n",
    "print(x)"
   ]
  },
  {
   "cell_type": "code",
   "execution_count": 43,
   "metadata": {},
   "outputs": [
    {
     "name": "stdout",
     "output_type": "stream",
     "text": [
      "[2, 3, 4]\n"
     ]
    }
   ],
   "source": [
    "%%python2\n",
    "\n",
    "x = range(2, 5)\n",
    "\n",
    "print(x)"
   ]
  },
  {
   "cell_type": "code",
   "execution_count": 42,
   "metadata": {},
   "outputs": [
    {
     "data": {
      "text/plain": [
       "range"
      ]
     },
     "execution_count": 42,
     "metadata": {},
     "output_type": "execute_result"
    }
   ],
   "source": [
    "type(x)"
   ]
  },
  {
   "cell_type": "code",
   "execution_count": 45,
   "metadata": {},
   "outputs": [],
   "source": [
    "avengers = {'captain':'sheild', 'ironman':'suit', 'vision':'stone'}"
   ]
  },
  {
   "cell_type": "code",
   "execution_count": 46,
   "metadata": {},
   "outputs": [
    {
     "name": "stdout",
     "output_type": "stream",
     "text": [
      "captain\n",
      "ironman\n",
      "vision\n"
     ]
    }
   ],
   "source": [
    "for x in avengers:\n",
    "    print(x)"
   ]
  },
  {
   "cell_type": "code",
   "execution_count": 47,
   "metadata": {},
   "outputs": [
    {
     "name": "stdout",
     "output_type": "stream",
     "text": [
      "captain \t sheild\n",
      "ironman \t suit\n",
      "vision \t stone\n"
     ]
    }
   ],
   "source": [
    "for x in avengers:\n",
    "    print(x, \"\\t\", avengers[x])"
   ]
  },
  {
   "cell_type": "code",
   "execution_count": 48,
   "metadata": {},
   "outputs": [
    {
     "name": "stdout",
     "output_type": "stream",
     "text": [
      "captain sheild\n",
      "ironman suit\n",
      "vision stone\n"
     ]
    }
   ],
   "source": [
    "for x, y in avengers.items():\n",
    "    print(x, y)"
   ]
  },
  {
   "cell_type": "code",
   "execution_count": null,
   "metadata": {},
   "outputs": [],
   "source": [
    "x = [i for i in range(3, 5)]"
   ]
  }
 ],
 "metadata": {
  "kernelspec": {
   "display_name": "Python 3",
   "language": "python",
   "name": "python3"
  },
  "language_info": {
   "codemirror_mode": {
    "name": "ipython",
    "version": 3
   },
   "file_extension": ".py",
   "mimetype": "text/x-python",
   "name": "python",
   "nbconvert_exporter": "python",
   "pygments_lexer": "ipython3",
   "version": "3.7.7"
  }
 },
 "nbformat": 4,
 "nbformat_minor": 4
}
