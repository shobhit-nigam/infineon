{
 "cells": [
  {
   "cell_type": "code",
   "execution_count": 1,
   "metadata": {},
   "outputs": [],
   "source": [
    "lista = [3, 5, 8, 2, 9, 12, 4, 10, 11, 7, 12]"
   ]
  },
  {
   "cell_type": "code",
   "execution_count": 2,
   "metadata": {},
   "outputs": [
    {
     "data": {
      "text/plain": [
       "[8, 9, 10, 7]"
      ]
     },
     "execution_count": 2,
     "metadata": {},
     "output_type": "execute_result"
    }
   ],
   "source": [
    "list(filter(lambda x : x > 5 and x <=10, lista))"
   ]
  },
  {
   "cell_type": "code",
   "execution_count": 3,
   "metadata": {},
   "outputs": [
    {
     "data": {
      "text/plain": [
       "[-7, -5, 18, -8, 19, 2, -6, 20, 1, 17, 2]"
      ]
     },
     "execution_count": 3,
     "metadata": {},
     "output_type": "execute_result"
    }
   ],
   "source": [
    "list(map(lambda x : x+10 if (x > 5 and x <=10) else x-10, lista))"
   ]
  },
  {
   "cell_type": "code",
   "execution_count": 5,
   "metadata": {},
   "outputs": [
    {
     "data": {
      "text/plain": [
       "True"
      ]
     },
     "execution_count": 5,
     "metadata": {},
     "output_type": "execute_result"
    }
   ],
   "source": [
    "10 > 5"
   ]
  },
  {
   "cell_type": "code",
   "execution_count": 6,
   "metadata": {},
   "outputs": [],
   "source": [
    "x = 10"
   ]
  },
  {
   "cell_type": "code",
   "execution_count": 7,
   "metadata": {},
   "outputs": [],
   "source": [
    "def funca():\n",
    "    varx = 100\n",
    "    data = [9, 20, 10]"
   ]
  },
  {
   "cell_type": "code",
   "execution_count": 8,
   "metadata": {},
   "outputs": [
    {
     "data": {
      "text/plain": [
       "{'__name__': '__main__',\n",
       " '__doc__': 'Automatically created module for IPython interactive environment',\n",
       " '__package__': None,\n",
       " '__loader__': None,\n",
       " '__spec__': None,\n",
       " '__builtin__': <module 'builtins' (built-in)>,\n",
       " '__builtins__': <module 'builtins' (built-in)>,\n",
       " '_ih': ['',\n",
       "  'lista = [3, 5, 8, 2, 9, 12, 4, 10, 11, 7, 12]',\n",
       "  'list(filter(lambda x : x > 5 and x <=10, lista))',\n",
       "  'list(map(lambda x : x+10 if (x > 5 and x <=10) else x-10, lista))',\n",
       "  'x > 5',\n",
       "  '10 > 5',\n",
       "  'x = 10',\n",
       "  'def funca():\\n    varx = 100\\n    data = [9, 20, 10]',\n",
       "  'globals()'],\n",
       " '_oh': {2: [8, 9, 10, 7],\n",
       "  3: [-7, -5, 18, -8, 19, 2, -6, 20, 1, 17, 2],\n",
       "  5: True},\n",
       " '_dh': ['/Users/shobhit/Desktop/infineon/day5/misc'],\n",
       " 'In': ['',\n",
       "  'lista = [3, 5, 8, 2, 9, 12, 4, 10, 11, 7, 12]',\n",
       "  'list(filter(lambda x : x > 5 and x <=10, lista))',\n",
       "  'list(map(lambda x : x+10 if (x > 5 and x <=10) else x-10, lista))',\n",
       "  'x > 5',\n",
       "  '10 > 5',\n",
       "  'x = 10',\n",
       "  'def funca():\\n    varx = 100\\n    data = [9, 20, 10]',\n",
       "  'globals()'],\n",
       " 'Out': {2: [8, 9, 10, 7],\n",
       "  3: [-7, -5, 18, -8, 19, 2, -6, 20, 1, 17, 2],\n",
       "  5: True},\n",
       " 'get_ipython': <bound method InteractiveShell.get_ipython of <ipykernel.zmqshell.ZMQInteractiveShell object at 0x7fcbfaf79f10>>,\n",
       " 'exit': <IPython.core.autocall.ZMQExitAutocall at 0x7fcbfafb41d0>,\n",
       " 'quit': <IPython.core.autocall.ZMQExitAutocall at 0x7fcbfafb41d0>,\n",
       " '_': True,\n",
       " '__': [-7, -5, 18, -8, 19, 2, -6, 20, 1, 17, 2],\n",
       " '___': [8, 9, 10, 7],\n",
       " '_i': 'def funca():\\n    varx = 100\\n    data = [9, 20, 10]',\n",
       " '_ii': 'x = 10',\n",
       " '_iii': '10 > 5',\n",
       " '_i1': 'lista = [3, 5, 8, 2, 9, 12, 4, 10, 11, 7, 12]',\n",
       " 'lista': [3, 5, 8, 2, 9, 12, 4, 10, 11, 7, 12],\n",
       " '_i2': 'list(filter(lambda x : x > 5 and x <=10, lista))',\n",
       " '_2': [8, 9, 10, 7],\n",
       " '_i3': 'list(map(lambda x : x+10 if (x > 5 and x <=10) else x-10, lista))',\n",
       " '_3': [-7, -5, 18, -8, 19, 2, -6, 20, 1, 17, 2],\n",
       " '_i4': 'x > 5',\n",
       " '_i5': '10 > 5',\n",
       " '_5': True,\n",
       " '_i6': 'x = 10',\n",
       " 'x': 10,\n",
       " '_i7': 'def funca():\\n    varx = 100\\n    data = [9, 20, 10]',\n",
       " 'funca': <function __main__.funca()>,\n",
       " '_i8': 'globals()'}"
      ]
     },
     "execution_count": 8,
     "metadata": {},
     "output_type": "execute_result"
    }
   ],
   "source": [
    "globals()"
   ]
  },
  {
   "cell_type": "code",
   "execution_count": 9,
   "metadata": {},
   "outputs": [],
   "source": [
    "def funca():\n",
    "    varx = 100\n",
    "    data = [9, 20, 10]\n",
    "    print(locals())"
   ]
  },
  {
   "cell_type": "code",
   "execution_count": 10,
   "metadata": {},
   "outputs": [
    {
     "name": "stdout",
     "output_type": "stream",
     "text": [
      "{'varx': 100, 'data': [9, 20, 10]}\n"
     ]
    }
   ],
   "source": [
    "funca()"
   ]
  },
  {
   "cell_type": "code",
   "execution_count": 11,
   "metadata": {},
   "outputs": [],
   "source": [
    "def funca():\n",
    "    varx = 100\n",
    "    data = [9, 20, 10]\n",
    "    print(globals())"
   ]
  },
  {
   "cell_type": "code",
   "execution_count": 12,
   "metadata": {},
   "outputs": [
    {
     "name": "stdout",
     "output_type": "stream",
     "text": [
      "{'__name__': '__main__', '__doc__': 'Automatically created module for IPython interactive environment', '__package__': None, '__loader__': None, '__spec__': None, '__builtin__': <module 'builtins' (built-in)>, '__builtins__': <module 'builtins' (built-in)>, '_ih': ['', 'lista = [3, 5, 8, 2, 9, 12, 4, 10, 11, 7, 12]', 'list(filter(lambda x : x > 5 and x <=10, lista))', 'list(map(lambda x : x+10 if (x > 5 and x <=10) else x-10, lista))', 'x > 5', '10 > 5', 'x = 10', 'def funca():\\n    varx = 100\\n    data = [9, 20, 10]', 'globals()', 'def funca():\\n    varx = 100\\n    data = [9, 20, 10]\\n    print(locals())', 'funca()', 'def funca():\\n    varx = 100\\n    data = [9, 20, 10]\\n    print(globals())', 'funca()'], '_oh': {2: [8, 9, 10, 7], 3: [-7, -5, 18, -8, 19, 2, -6, 20, 1, 17, 2], 5: True, 8: {...}}, '_dh': ['/Users/shobhit/Desktop/infineon/day5/misc'], 'In': ['', 'lista = [3, 5, 8, 2, 9, 12, 4, 10, 11, 7, 12]', 'list(filter(lambda x : x > 5 and x <=10, lista))', 'list(map(lambda x : x+10 if (x > 5 and x <=10) else x-10, lista))', 'x > 5', '10 > 5', 'x = 10', 'def funca():\\n    varx = 100\\n    data = [9, 20, 10]', 'globals()', 'def funca():\\n    varx = 100\\n    data = [9, 20, 10]\\n    print(locals())', 'funca()', 'def funca():\\n    varx = 100\\n    data = [9, 20, 10]\\n    print(globals())', 'funca()'], 'Out': {2: [8, 9, 10, 7], 3: [-7, -5, 18, -8, 19, 2, -6, 20, 1, 17, 2], 5: True, 8: {...}}, 'get_ipython': <bound method InteractiveShell.get_ipython of <ipykernel.zmqshell.ZMQInteractiveShell object at 0x7fcbfaf79f10>>, 'exit': <IPython.core.autocall.ZMQExitAutocall object at 0x7fcbfafb41d0>, 'quit': <IPython.core.autocall.ZMQExitAutocall object at 0x7fcbfafb41d0>, '_': {...}, '__': True, '___': [-7, -5, 18, -8, 19, 2, -6, 20, 1, 17, 2], '_i': 'def funca():\\n    varx = 100\\n    data = [9, 20, 10]\\n    print(globals())', '_ii': 'funca()', '_iii': 'def funca():\\n    varx = 100\\n    data = [9, 20, 10]\\n    print(locals())', '_i1': 'lista = [3, 5, 8, 2, 9, 12, 4, 10, 11, 7, 12]', 'lista': [3, 5, 8, 2, 9, 12, 4, 10, 11, 7, 12], '_i2': 'list(filter(lambda x : x > 5 and x <=10, lista))', '_2': [8, 9, 10, 7], '_i3': 'list(map(lambda x : x+10 if (x > 5 and x <=10) else x-10, lista))', '_3': [-7, -5, 18, -8, 19, 2, -6, 20, 1, 17, 2], '_i4': 'x > 5', '_i5': '10 > 5', '_5': True, '_i6': 'x = 10', 'x': 10, '_i7': 'def funca():\\n    varx = 100\\n    data = [9, 20, 10]', 'funca': <function funca at 0x7fcbfb1d73b0>, '_i8': 'globals()', '_8': {...}, '_i9': 'def funca():\\n    varx = 100\\n    data = [9, 20, 10]\\n    print(locals())', '_i10': 'funca()', '_i11': 'def funca():\\n    varx = 100\\n    data = [9, 20, 10]\\n    print(globals())', '_i12': 'funca()'}\n"
     ]
    }
   ],
   "source": [
    "funca()"
   ]
  },
  {
   "cell_type": "code",
   "execution_count": 15,
   "metadata": {},
   "outputs": [],
   "source": [
    "hi = 20"
   ]
  },
  {
   "cell_type": "code",
   "execution_count": 16,
   "metadata": {},
   "outputs": [
    {
     "data": {
      "text/plain": [
       "70"
      ]
     },
     "execution_count": 16,
     "metadata": {},
     "output_type": "execute_result"
    }
   ],
   "source": [
    "30 + 40"
   ]
  },
  {
   "cell_type": "code",
   "execution_count": 17,
   "metadata": {},
   "outputs": [
    {
     "data": {
      "text/plain": [
       "70"
      ]
     },
     "execution_count": 17,
     "metadata": {},
     "output_type": "execute_result"
    }
   ],
   "source": [
    "_"
   ]
  },
  {
   "cell_type": "code",
   "execution_count": 18,
   "metadata": {},
   "outputs": [
    {
     "data": {
      "text/plain": [
       "'_'"
      ]
     },
     "execution_count": 18,
     "metadata": {},
     "output_type": "execute_result"
    }
   ],
   "source": [
    "_i"
   ]
  },
  {
   "cell_type": "code",
   "execution_count": 19,
   "metadata": {},
   "outputs": [
    {
     "data": {
      "text/plain": [
       "'def funca():\\n    varx = 100\\n    data = [9, 20, 10]\\n    print(globals())'"
      ]
     },
     "execution_count": 19,
     "metadata": {},
     "output_type": "execute_result"
    }
   ],
   "source": [
    "_i11"
   ]
  },
  {
   "cell_type": "code",
   "execution_count": 20,
   "metadata": {},
   "outputs": [
    {
     "data": {
      "text/plain": [
       "'x = 10'"
      ]
     },
     "execution_count": 20,
     "metadata": {},
     "output_type": "execute_result"
    }
   ],
   "source": [
    "_i6"
   ]
  },
  {
   "cell_type": "code",
   "execution_count": null,
   "metadata": {},
   "outputs": [],
   "source": []
  }
 ],
 "metadata": {
  "kernelspec": {
   "display_name": "Python 3",
   "language": "python",
   "name": "python3"
  },
  "language_info": {
   "codemirror_mode": {
    "name": "ipython",
    "version": 3
   },
   "file_extension": ".py",
   "mimetype": "text/x-python",
   "name": "python",
   "nbconvert_exporter": "python",
   "pygments_lexer": "ipython3",
   "version": "3.7.7"
  }
 },
 "nbformat": 4,
 "nbformat_minor": 4
}
