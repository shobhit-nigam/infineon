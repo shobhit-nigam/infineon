{
 "cells": [
  {
   "cell_type": "code",
   "execution_count": 2,
   "metadata": {},
   "outputs": [],
   "source": [
    "c = \"chicken\"\n",
    "p = \"paneer\""
   ]
  },
  {
   "cell_type": "code",
   "execution_count": 3,
   "metadata": {},
   "outputs": [],
   "source": [
    "def biryani(x):\n",
    "    print(\"making\", x, \"biryani\")\n",
    "    \n",
    "    \n",
    "def pulao(x):\n",
    "    print(\"making\", x, \"pulao\")"
   ]
  },
  {
   "cell_type": "code",
   "execution_count": 4,
   "metadata": {},
   "outputs": [
    {
     "name": "stdout",
     "output_type": "stream",
     "text": [
      "making chicken biryani\n"
     ]
    }
   ],
   "source": [
    "biryani(c)"
   ]
  },
  {
   "cell_type": "code",
   "execution_count": 5,
   "metadata": {},
   "outputs": [
    {
     "name": "stdout",
     "output_type": "stream",
     "text": [
      "making paneer pulao\n"
     ]
    }
   ],
   "source": [
    "pulao(p)"
   ]
  },
  {
   "cell_type": "code",
   "execution_count": 6,
   "metadata": {},
   "outputs": [],
   "source": [
    "def make(gen, x):\n",
    "    gen(x)"
   ]
  },
  {
   "cell_type": "code",
   "execution_count": 7,
   "metadata": {},
   "outputs": [
    {
     "name": "stdout",
     "output_type": "stream",
     "text": [
      "making chicken biryani\n"
     ]
    }
   ],
   "source": [
    "make(biryani, c)"
   ]
  },
  {
   "cell_type": "code",
   "execution_count": 9,
   "metadata": {},
   "outputs": [
    {
     "name": "stdout",
     "output_type": "stream",
     "text": [
      "making chicken pulao\n"
     ]
    }
   ],
   "source": [
    "make(pulao, c)"
   ]
  },
  {
   "cell_type": "code",
   "execution_count": 10,
   "metadata": {},
   "outputs": [],
   "source": [
    "def add(t, y):\n",
    "    t+y"
   ]
  },
  {
   "cell_type": "code",
   "execution_count": 11,
   "metadata": {},
   "outputs": [],
   "source": [
    "def funca():\n",
    "    print(\"outer\")\n",
    "    def funcb():\n",
    "        print(\"inner\")\n",
    "    print(\"back to outer\")"
   ]
  },
  {
   "cell_type": "code",
   "execution_count": 12,
   "metadata": {},
   "outputs": [],
   "source": [
    "def app(protocol, data):\n",
    "    # \n",
    "    protocol(data) "
   ]
  },
  {
   "cell_type": "code",
   "execution_count": 16,
   "metadata": {},
   "outputs": [],
   "source": [
    "def funca():\n",
    "    print(\"outer\")\n",
    "    def funcb():\n",
    "        print(\"inner\")\n",
    "    funcb()\n",
    "    print(\"back to outer\")"
   ]
  },
  {
   "cell_type": "code",
   "execution_count": 17,
   "metadata": {},
   "outputs": [
    {
     "name": "stdout",
     "output_type": "stream",
     "text": [
      "outer\n",
      "inner\n",
      "back to outer\n"
     ]
    }
   ],
   "source": [
    "funca()"
   ]
  },
  {
   "cell_type": "code",
   "execution_count": 15,
   "metadata": {},
   "outputs": [
    {
     "ename": "NameError",
     "evalue": "name 'funcb' is not defined",
     "output_type": "error",
     "traceback": [
      "\u001b[0;31m---------------------------------------------------------------------------\u001b[0m",
      "\u001b[0;31mNameError\u001b[0m                                 Traceback (most recent call last)",
      "\u001b[0;32m<ipython-input-15-7133e93e16de>\u001b[0m in \u001b[0;36m<module>\u001b[0;34m\u001b[0m\n\u001b[0;32m----> 1\u001b[0;31m \u001b[0mfuncb\u001b[0m\u001b[0;34m(\u001b[0m\u001b[0;34m)\u001b[0m\u001b[0;34m\u001b[0m\u001b[0;34m\u001b[0m\u001b[0m\n\u001b[0m",
      "\u001b[0;31mNameError\u001b[0m: name 'funcb' is not defined"
     ]
    }
   ],
   "source": [
    "funcb()"
   ]
  },
  {
   "cell_type": "code",
   "execution_count": 18,
   "metadata": {},
   "outputs": [],
   "source": [
    "def funca():\n",
    "    print(\"plain sentence\")\n",
    "\n",
    "def funcb(gen):\n",
    "    def funcc():\n",
    "        gen()\n",
    "        print(\"decorated sentence\")\n",
    "    return funcc"
   ]
  },
  {
   "cell_type": "code",
   "execution_count": 20,
   "metadata": {},
   "outputs": [],
   "source": [
    "funcx = funcb(funca) "
   ]
  },
  {
   "cell_type": "code",
   "execution_count": 21,
   "metadata": {},
   "outputs": [
    {
     "name": "stdout",
     "output_type": "stream",
     "text": [
      "plain sentence\n"
     ]
    }
   ],
   "source": [
    "funca()"
   ]
  },
  {
   "cell_type": "code",
   "execution_count": 22,
   "metadata": {},
   "outputs": [
    {
     "name": "stdout",
     "output_type": "stream",
     "text": [
      "plain sentence\n",
      "decorated sentence\n"
     ]
    }
   ],
   "source": [
    "funcx()"
   ]
  },
  {
   "cell_type": "code",
   "execution_count": 23,
   "metadata": {},
   "outputs": [],
   "source": [
    "def funca():\n",
    "    print(\"plain sentence\")\n",
    "\n",
    "def funcb(gen):\n",
    "    def funcc():\n",
    "        gen()\n",
    "        print(\"decorated sentence\")\n",
    "    return funcc\n",
    "\n",
    "\n",
    "funcx = funcb(funca) "
   ]
  },
  {
   "cell_type": "code",
   "execution_count": 24,
   "metadata": {},
   "outputs": [],
   "source": [
    "def funca():\n",
    "    print(\"plain sentence\")\n",
    "\n",
    "def funcb(gen):\n",
    "    def funcc():\n",
    "        gen()\n",
    "        print(\"decorated sentence\")\n",
    "    return funcc\n",
    "\n",
    "\n",
    "funca = funcb(funca) "
   ]
  },
  {
   "cell_type": "code",
   "execution_count": 25,
   "metadata": {},
   "outputs": [
    {
     "name": "stdout",
     "output_type": "stream",
     "text": [
      "plain sentence\n",
      "decorated sentence\n"
     ]
    }
   ],
   "source": [
    "funca()"
   ]
  },
  {
   "cell_type": "code",
   "execution_count": 26,
   "metadata": {},
   "outputs": [],
   "source": [
    "def funcb(gen):\n",
    "    def funcc():\n",
    "        gen()\n",
    "        print(\"decorated sentence\")\n",
    "    return funcc\n",
    "\n",
    "def funca():\n",
    "    print(\"plain sentence\")\n",
    "\n",
    "funca = funcb(funca) "
   ]
  },
  {
   "cell_type": "code",
   "execution_count": 27,
   "metadata": {},
   "outputs": [
    {
     "name": "stdout",
     "output_type": "stream",
     "text": [
      "plain sentence\n",
      "decorated sentence\n"
     ]
    }
   ],
   "source": [
    "funca()"
   ]
  },
  {
   "cell_type": "code",
   "execution_count": 28,
   "metadata": {},
   "outputs": [],
   "source": [
    "def funcb(gen):\n",
    "    def funcc():\n",
    "        gen()\n",
    "        print(\"decorated sentence\")\n",
    "    return funcc\n",
    "\n",
    "@funcb\n",
    "def funca():\n",
    "    print(\"plain sentence\")"
   ]
  },
  {
   "cell_type": "code",
   "execution_count": 29,
   "metadata": {},
   "outputs": [
    {
     "name": "stdout",
     "output_type": "stream",
     "text": [
      "plain sentence\n",
      "decorated sentence\n"
     ]
    }
   ],
   "source": [
    "funca()"
   ]
  },
  {
   "cell_type": "code",
   "execution_count": 30,
   "metadata": {},
   "outputs": [],
   "source": [
    "@staticmethod\n",
    "def funca():\n",
    "    print(\"gggg\")\n",
    "    \n",
    "    \n",
    "funca = staticmethod(funca)"
   ]
  },
  {
   "cell_type": "code",
   "execution_count": 32,
   "metadata": {},
   "outputs": [],
   "source": [
    "pass"
   ]
  },
  {
   "cell_type": "code",
   "execution_count": 34,
   "metadata": {},
   "outputs": [],
   "source": [
    "def hashs(gen):\n",
    "    def inner():\n",
    "        print(\"**********\")\n",
    "        gen()\n",
    "        print(\"**********\")\n",
    "    return inner\n",
    "\n",
    "\n",
    "def display(data):\n",
    "    print(data)"
   ]
  },
  {
   "cell_type": "code",
   "execution_count": 35,
   "metadata": {},
   "outputs": [
    {
     "name": "stdout",
     "output_type": "stream",
     "text": [
      "hello world\n"
     ]
    }
   ],
   "source": [
    "display(\"hello world\")"
   ]
  },
  {
   "cell_type": "code",
   "execution_count": 38,
   "metadata": {},
   "outputs": [],
   "source": [
    "def hashs(gen):\n",
    "    def inner(*args):\n",
    "        print(\"**********\")\n",
    "        gen(*args)\n",
    "        print(\"**********\")\n",
    "    return inner\n",
    "\n",
    "@hashs\n",
    "def display(data):\n",
    "    print(data)"
   ]
  },
  {
   "cell_type": "code",
   "execution_count": 39,
   "metadata": {},
   "outputs": [
    {
     "name": "stdout",
     "output_type": "stream",
     "text": [
      "**********\n",
      "hello world\n",
      "**********\n"
     ]
    }
   ],
   "source": [
    "display(\"hello world\")"
   ]
  },
  {
   "cell_type": "code",
   "execution_count": 40,
   "metadata": {},
   "outputs": [],
   "source": [
    "def hashs(gen):\n",
    "    def inner(*args):\n",
    "        print(\"**********\")\n",
    "        gen(*args)\n",
    "        print(\"**********\")\n",
    "    return inner\n",
    "\n",
    "def lines(gen):\n",
    "    def inner(*args):\n",
    "        print(\"----------\")\n",
    "        gen(*args)\n",
    "        print(\"----------\")\n",
    "    return inner\n",
    "\n",
    "@hashs\n",
    "@lines\n",
    "def display(data):\n",
    "    print(data)\n",
    "    \n",
    "# display = hashs(lines(displays))"
   ]
  },
  {
   "cell_type": "code",
   "execution_count": 42,
   "metadata": {},
   "outputs": [
    {
     "name": "stdout",
     "output_type": "stream",
     "text": [
      "**********\n",
      "----------\n",
      "hello world\n",
      "----------\n",
      "**********\n"
     ]
    }
   ],
   "source": [
    "display(\"hello world\")"
   ]
  },
  {
   "cell_type": "code",
   "execution_count": 43,
   "metadata": {},
   "outputs": [],
   "source": [
    "def hashs(gen):\n",
    "    def inner(*args):\n",
    "        print(\"##########\")\n",
    "        gen(*args)\n",
    "        print(\"##########\")\n",
    "    return inner\n",
    "\n",
    "def lines(gen):\n",
    "    def inner(*args):\n",
    "        print(\"----------\")\n",
    "        gen(*args)\n",
    "        print(\"----------\")\n",
    "    return inner\n",
    "\n",
    "@lines\n",
    "@hashs\n",
    "def display(data):\n",
    "    print(data)"
   ]
  },
  {
   "cell_type": "code",
   "execution_count": 44,
   "metadata": {},
   "outputs": [
    {
     "name": "stdout",
     "output_type": "stream",
     "text": [
      "----------\n",
      "##########\n",
      "hello world\n",
      "##########\n",
      "----------\n"
     ]
    }
   ],
   "source": [
    "display(\"hello world\")"
   ]
  },
  {
   "cell_type": "code",
   "execution_count": null,
   "metadata": {},
   "outputs": [],
   "source": []
  }
 ],
 "metadata": {
  "kernelspec": {
   "display_name": "Python 3",
   "language": "python",
   "name": "python3"
  },
  "language_info": {
   "codemirror_mode": {
    "name": "ipython",
    "version": 3
   },
   "file_extension": ".py",
   "mimetype": "text/x-python",
   "name": "python",
   "nbconvert_exporter": "python",
   "pygments_lexer": "ipython3",
   "version": "3.7.7"
  }
 },
 "nbformat": 4,
 "nbformat_minor": 4
}
