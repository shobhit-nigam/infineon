{
 "cells": [
  {
   "cell_type": "code",
   "execution_count": 1,
   "metadata": {},
   "outputs": [],
   "source": [
    "import pickle"
   ]
  },
  {
   "cell_type": "code",
   "execution_count": 2,
   "metadata": {},
   "outputs": [],
   "source": [
    "lista = ['aa', 'BB', 'cc', 'DD', 'ee', 'ff', 'gg']\n",
    "\n",
    "tupa = (\"hi\", {5, 7, 8}, '', None, 0, 10, False)\n",
    "\n",
    "listb = [6, 8.9, 12, 4.5, 7]\n",
    "\n",
    "seta = {4, 7, 2, 8, 3}\n",
    "\n",
    "dicta = {10:'oo', 20:'yy', 30:'tt'}\n",
    "\n",
    "numa = 334\n",
    "\n",
    "stra = \"hello\""
   ]
  },
  {
   "cell_type": "code",
   "execution_count": 3,
   "metadata": {},
   "outputs": [],
   "source": [
    "p = pickle.dumps(listb)"
   ]
  },
  {
   "cell_type": "code",
   "execution_count": 4,
   "metadata": {},
   "outputs": [
    {
     "name": "stdout",
     "output_type": "stream",
     "text": [
      "b'\\x80\\x03]q\\x00(K\\x06G@!\\xcc\\xcc\\xcc\\xcc\\xcc\\xcdK\\x0cG@\\x12\\x00\\x00\\x00\\x00\\x00\\x00K\\x07e.'\n"
     ]
    }
   ],
   "source": [
    "print(p)"
   ]
  },
  {
   "cell_type": "code",
   "execution_count": 7,
   "metadata": {},
   "outputs": [
    {
     "name": "stdout",
     "output_type": "stream",
     "text": [
      "[6, 8.9, 12, 4.5, 7]\n"
     ]
    }
   ],
   "source": [
    "n = pickle.loads(p)\n",
    "\n",
    "print(n)"
   ]
  },
  {
   "cell_type": "code",
   "execution_count": null,
   "metadata": {},
   "outputs": [],
   "source": []
  }
 ],
 "metadata": {
  "kernelspec": {
   "display_name": "Python 3",
   "language": "python",
   "name": "python3"
  },
  "language_info": {
   "codemirror_mode": {
    "name": "ipython",
    "version": 3
   },
   "file_extension": ".py",
   "mimetype": "text/x-python",
   "name": "python",
   "nbconvert_exporter": "python",
   "pygments_lexer": "ipython3",
   "version": "3.7.7"
  }
 },
 "nbformat": 4,
 "nbformat_minor": 4
}
